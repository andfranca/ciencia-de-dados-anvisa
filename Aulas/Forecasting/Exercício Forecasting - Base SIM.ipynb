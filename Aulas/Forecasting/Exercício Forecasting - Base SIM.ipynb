{
 "cells": [
  {
   "cell_type": "markdown",
   "id": "c3507e52",
   "metadata": {},
   "source": [
    "### Exercícios - Base SIM PB\n",
    "\n",
    "O SIM proporciona a produção de estatísticas de mortalidade e a construção dos principais indicadores de saúde. A análise dessas informações permite estudos não apenas do ponto de vista estatístico e epidemiológico, mas também sócio-demográfico.\n",
    "\n",
    "Para esse exercício, será necessário unificar as bases que estão separados por ano. \n",
    "\n",
    "- Fazer análise exploratória de dados\n",
    "- Identificar grupos ou perfis para investigação\n",
    "- Realizar uma análise de série temporal\n",
    "- Projetar os óbitos para os próximos três meses"
   ]
  }
 ],
 "metadata": {
  "kernelspec": {
   "display_name": "Python 3 (ipykernel)",
   "language": "python",
   "name": "python3"
  },
  "language_info": {
   "codemirror_mode": {
    "name": "ipython",
    "version": 3
   },
   "file_extension": ".py",
   "mimetype": "text/x-python",
   "name": "python",
   "nbconvert_exporter": "python",
   "pygments_lexer": "ipython3",
   "version": "3.9.13"
  }
 },
 "nbformat": 4,
 "nbformat_minor": 5
}
