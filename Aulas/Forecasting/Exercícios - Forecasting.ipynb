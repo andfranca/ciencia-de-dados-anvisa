{
 "cells": [
  {
   "cell_type": "markdown",
   "id": "35ec0f50",
   "metadata": {},
   "source": [
    "### Exercício I\n",
    "\n",
    "Um gestor da área da saúde gostaria de realizar a previsão da quantidade de agendamento em uma unidade de saúde específica para os próximos sete dias. O hospital possui registro de atendimento diário dos dois últimos anos no arquivo: **Agendamento de consulta.csv**\n",
    "\n",
    "- Faça a Análise Exploratória de Dados \n",
    "- Teste a estacionariedade da série\n",
    "- Utilize a função de autocorrelação (ACF) e a função de autocorrelação parcial (PACF) e defina a ordem a ser testada no modelo AR.\n",
    "- Ajuste um modelo autorregressivo AR e avalie a significância dos parâmetros.\n",
    "- Faça a previsão para os próximos sete dias"
   ]
  },
  {
   "cell_type": "markdown",
   "id": "387e2e42",
   "metadata": {},
   "source": [
    "### Exercício II \n",
    "\n",
    "Para evitar que uma doença se espalhe, foi criado um plano com metas de vacinação para cada município. O auditor responsável pelo acompanhamento, quer analisar a evolução do atingimento das metas diariamente utilizando dados dos últimos dois anos. Para essa análise, a base utilizada foi a **Taxa de vacinacao.csv**. Realize uma análise desta série de atingimento de metas.\n",
    "\n",
    "- Faça a Análise Exploratória de Dados \n",
    "- Teste a estacionariedade da série\n",
    "- Utilize a função de autocorrelação (ACF) e a função de autocorrelação parcial (PACF) e defina a ordem a ser testada no modelo AR.\n",
    "- Ajuste um modelo autorregressivo AR e avalie a significância dos parâmetros.\n",
    "- Faça a previsão para os próximos sete dias"
   ]
  },
  {
   "cell_type": "markdown",
   "id": "8be97151",
   "metadata": {},
   "source": [
    "### Exercício III\n",
    "\n",
    "Um auditor gostaria de realizar a previsão da taxa de não-conformidade de um determinado procedimento na rede pública, para isso, o auditor solicitou os dados históricos do indicador. Os dados estão disponíveis no arquivo: Auditoria.csv, analise a base e identifique se é possível ajustar um modelo ARMA\n",
    "\n",
    "- Faça a Análise Exploratória de Dados \n",
    "- Teste a estacionariedade da série\n",
    "- Utilize a função de autocorrelação (ACF) e a função de autocorrelação parcial (PACF) e defina a ordem a ser testada no modelo AR.\n",
    "- Ajuste um modelo e avalie a significância dos parâmetros.\n",
    "- Faça a previsão para os próximos sete dias"
   ]
  }
 ],
 "metadata": {
  "kernelspec": {
   "display_name": "Python 3 (ipykernel)",
   "language": "python",
   "name": "python3"
  },
  "language_info": {
   "codemirror_mode": {
    "name": "ipython",
    "version": 3
   },
   "file_extension": ".py",
   "mimetype": "text/x-python",
   "name": "python",
   "nbconvert_exporter": "python",
   "pygments_lexer": "ipython3",
   "version": "3.9.13"
  }
 },
 "nbformat": 4,
 "nbformat_minor": 5
}
