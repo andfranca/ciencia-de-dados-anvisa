{
 "cells": [
  {
   "cell_type": "markdown",
   "id": "9c630b01",
   "metadata": {},
   "source": [
    "## Automação de Tarefas\n",
    "\n",
    "### Scripts automatizados\n",
    "\n",
    "Após um longo período de desenvolvimento trabalhando na identificação dos problemas, na coleta e no processamento dos dados e modelagem, chega um momento em que precisamos fazer o computador trabalhar por nós. Por isso, sempre que possível, criamos regras com scripts que automatizam nossos trabalho. \n",
    "\n",
    "Automatizar scripts tem várias vantagens e benefícios que podem melhorar a eficiência e a produtividade no desenvolvimento de software, coleta e estruturação de dados e em diversas tarefas que precisam ser repetidas diversas vezes. Ao criar processos de automação, temos diversos benefícios como:\n",
    "\n",
    "- Economia de tempo\n",
    "- Redução de erros\n",
    "- Padronização e consistência\n",
    "- Escalabilidade\n",
    "- Otimização de recursos\n",
    "- Liberação de recursos humanos\n",
    "\n",
    "No geral, a automação oferece uma maneira eficiente de executar tarefas repetitivas, economizar tempo e melhorar a produtividade, uma vez que esse processo permite que os profissionais foquem em atividades mais 'pensantes', ao mesmo tempo que garantem a padronização, consistência e escalabilidade. "
   ]
  },
  {
   "cell_type": "markdown",
   "id": "a25640e3",
   "metadata": {},
   "source": [
    "### Manipulação de Arquivos e Diretórios\n",
    "\n",
    "Antes de começar a automatizar toda e qualquer tarefa, é de suma importância saber manipular arquivos e diretórios. A manipulação de arquivos e diretórios é essencial para a automação, pois permite que os programas interajam com os dados armazenados em arquivos, organizem-os de forma adequada, realizem operações específicas e gerenciem sua estrutura. \n",
    "\n",
    "Esse conhecimento pode envolver várias operações, incluindo:\n",
    "\n",
    "#### Criação de arquivos e Diretórios"
   ]
  },
  {
   "cell_type": "code",
   "execution_count": 1,
   "id": "8f8018cc",
   "metadata": {},
   "outputs": [
    {
     "name": "stdout",
     "output_type": "stream",
     "text": [
      "Diretório 'caminho/do/novo/diretorio' criado com sucesso.\n"
     ]
    }
   ],
   "source": [
    "import os\n",
    "diretorio = 'caminho/do/novo/diretorio'\n",
    "\n",
    "if not os.path.exists(diretorio):\n",
    "    os.makedirs(diretorio)\n",
    "    print(f\"Diretório '{diretorio}' criado com sucesso.\")\n",
    "else:\n",
    "    print(f\"Diretório '{diretorio}' já existe.\")"
   ]
  },
  {
   "cell_type": "markdown",
   "id": "1f72da4d",
   "metadata": {},
   "source": [
    "#### Leitura e escrita de arquivos\n",
    "Para ler arquivos, basta utilizar bibliotecas específicas para cada tipo de arquivo, como csv, json, pandas, entre outras. Todas essas bibliotecas possuem módulos tanto para leitura quanto para escrita de arquivos."
   ]
  },
  {
   "cell_type": "code",
   "execution_count": null,
   "id": "125a85a9",
   "metadata": {},
   "outputs": [],
   "source": [
    "import csv\n",
    "import json\n",
    "import pandas"
   ]
  },
  {
   "cell_type": "markdown",
   "id": "a28b3877",
   "metadata": {},
   "source": [
    "#### Movimentação e renomeação\n",
    "Para renomear um arquivos em python de forma simples, basta usar a função _os.rename()_"
   ]
  },
  {
   "cell_type": "code",
   "execution_count": null,
   "id": "339a7d1e",
   "metadata": {},
   "outputs": [],
   "source": [
    "import os\n",
    "\n",
    "# Passo 1. Definir o caminho e nome atual do arquivo\n",
    "caminho_antigo = 'caminho/do/arquivo_antigo.csv'\n",
    "\n",
    "# Passo 2. Definir o novo nome do arquivo\n",
    "novo_nome = 'novo_nome.csv'\n",
    "\n",
    "# Passo 3. Renomear o arquivo\n",
    "os.rename(caminho_antigo, novo_nome)"
   ]
  },
  {
   "cell_type": "markdown",
   "id": "63cb6914",
   "metadata": {},
   "source": [
    "Já para mover o arquivo para uma nova pasta, é possível utilizar a biblioteca **shutil**"
   ]
  },
  {
   "cell_type": "code",
   "execution_count": null,
   "id": "eb753052",
   "metadata": {},
   "outputs": [],
   "source": [
    "import shutil\n",
    "\n",
    "# Passo1. Definir o caminho e nome atual do arquivo\n",
    "caminho_arquivo = 'caminho/atual/do/arquivo.csv'\n",
    "\n",
    "# Passo 2. Definir o novo caminho e nome do arquivo\n",
    "novo_caminho = 'caminho/novo/destino/arquivo.csv'\n",
    "\n",
    "# Passo 3. Mover o arquivo para a nova pasta\n",
    "shutil.move(caminho_arquivo, novo_caminho)"
   ]
  },
  {
   "cell_type": "markdown",
   "id": "c2b58e26",
   "metadata": {},
   "source": [
    "#### Excluir arquivos e pastas"
   ]
  },
  {
   "cell_type": "code",
   "execution_count": null,
   "id": "4182a3cc",
   "metadata": {},
   "outputs": [],
   "source": [
    "#Excluir arquivo\n",
    "import os\n",
    "\n",
    "# Definir o caminho do arquivo que será excluído\n",
    "caminho_arquivo = 'caminho/do/arquivo.csv'\n",
    "\n",
    "# Excluir o arquivo\n",
    "os.remove(caminho_arquivo)"
   ]
  },
  {
   "cell_type": "code",
   "execution_count": null,
   "id": "a99129ba",
   "metadata": {},
   "outputs": [],
   "source": [
    "#Excluir pasta\n",
    "import shutil\n",
    "\n",
    "# Definir o caminho da pasta a ser excluída\n",
    "caminho_pasta = 'caminho/da/pasta'\n",
    "\n",
    "# Exclui a pasta e todo o seu conteúdo\n",
    "shutil.rmtree(caminho_pasta)"
   ]
  },
  {
   "cell_type": "markdown",
   "id": "6d80b661",
   "metadata": {},
   "source": [
    "Isso oferece flexibilidade e controle sobre como os dados são manipulados e processados durante o fluxo de automação."
   ]
  },
  {
   "cell_type": "markdown",
   "id": "6e61e789",
   "metadata": {},
   "source": [
    "# Automação de Tarefas na web\n",
    "\n",
    "Conforme abordado no tópico de coleta de dados na web, a coleta de dados na internet desempenha um papel fundamental na obtenção de informações relevantes, auxiliando em processos de tomada de decisão, pesquisa, análise de mercado e desenvolvimento de serviços. Entretanto, muitas vezes é bem difícil encontrar conjuntos de dados de código aberto que correspondam perfeitamente ao que você está procurando, ou APIs gratuitas que lhe dão acesso aos dados. Nesse caso, a raspagem de dados da web, ou web scraping, pode ser uma solução para obter mais dados.\n",
    "\n",
    "\n",
    "### Como funciona o Web Scraping?\n",
    "O web scraping envolve várias etapas para extrair dados de um site. O processo pode incluir os principais passos:\n",
    "\n",
    "- **Identificar o alvo:** Primeiro, é necessário identificar o site-alvo a partir do qual deseja extrair dados. Isso pode ser qualquer página da web que contenha as informações que você está interessado em coletar.\n",
    "\n",
    "- **Analisar a estrutura da página:** Antes de iniciar o web scraping, é importante entender a estrutura da página. Isso envolve examinar o código HTML da página para identificar os elementos que contêm os dados desejados. Você pode usar o recurso de inspeção do navegador para visualizar o código-fonte da página e identificar os elementos relevantes.\n",
    "\n",
    "- **Selecionar e extrair os dados:** Com base na análise da estrutura da página, você pode usar bibliotecas ou ferramentas de web scraping, como BeautifulSoup em Python, para selecionar e extrair os dados desejados. Isso envolve identificar os elementos HTML específicos (por meio de seletores CSS ou XPath) e recuperar seu conteúdo, como texto, imagens ou links.\n",
    "\n",
    "- **Tratar e limpar os dados:** Após a extração dos dados, é possível que você precise realizar algum pré-processamento para tratar e limpar as informações coletadas. Isso pode envolver a remoção de caracteres indesejados, a conversão de formatos ou a padronização dos dados de acordo com suas necessidades.\n",
    "\n",
    "- **Armazenar ou utilizar os dados:** Depois de tratar os dados, você pode optar por armazená-los em um formato específico, como um arquivo CSV, JSON ou em um banco de dados. Alternativamente, você pode utilizar os dados diretamente em análises, visualizações ou aplicativos específicos.\n",
    "\n",
    "- **Iterar e automatizar:** O processo de web scraping pode ser repetido para várias páginas ou sites semelhantes. Você pode iterar o processo para coletar dados de várias fontes. Além disso, é possível automatizar o processo de web scraping, criando scripts ou programas que executam a extração de dados de forma programada e regular.\n",
    "\n",
    "\n",
    "<img src=\"https://drive.google.com/uc?id=1v1WwiGw_SKHeSxJ-uj1WoBN92e8JrYZC\" width=\"400\" align=\"center\"/>\n",
    "\n",
    "\n",
    "### Tipos de webscraping\n",
    "\n",
    "Existem diversos tipos de web scraping, que dependem da abordagem utilizada e dos objetivos do projeto. Os principais são:\n",
    "\n",
    "- **Web Scraping Estático:** É o tipo mais utilizado. Nesse caso, o _scraper_ coleta dados de páginas estáticas, ou seja, aquelas em que o conteúdo não é gerado dinamicamente por meio de JavaScript ou AJAX. O web scraper faz o download do HTML da página e extrai os dados desejados diretamente do código-fonte.\n",
    "\n",
    "- **Web Scraping Dinâmico:** Nesse caso, o scraper lida com páginas que possuem conteúdo gerado dinamicamente por meio de JavaScript ou AJAX. Para coletar os dados, é necessário usar ferramentas como Selenium ou Puppeteer, que permitem a automação de um navegador web real para renderizar e interagir com a página. O scraper pode extrair os dados depois que a página foi totalmente carregada e o JavaScript foi executado.\n",
    "\n",
    "- **Web Scraping Focused:** Nesse tipo de scraping, o foco está em extrair informações específicas de uma página, como um conjunto de elementos, campos de formulário ou blocos de texto. É uma abordagem mais direcionada e pode ser usada para coletar informações específicas de interesse, evitando a necessidade de extrair todo o conteúdo da página.\n",
    "\n",
    "- **Web Crawling:** Enquanto o web scraping envolve a extração de dados específicos de páginas individuais, o web crawling envolve a navegação sistemática por vários sites para descobrir e coletar informações. Os crawlers são usados por mecanismos de busca para indexar páginas da web (ex. Google, Bing, Yahoo!, etc), seguir links e coletar informações para construir um índice de pesquisa."
   ]
  },
  {
   "cell_type": "markdown",
   "id": "3564f8e2",
   "metadata": {},
   "source": [
    "### Baixando dados direto das URLs\n",
    "\n",
    "Muitas vezes, não precisamos ficar buscando elementos nas páginas ou entendendo a estrutura de HTML, pois é possível localizar um arquivo ou informação por uma requisição direta. Vamos utilzar o exemplo o diretório de venda de medicamentos controlados e atimicrobianos. Esta base de Dados Abertos disponibiliza dados públicos de venda de medicamentos sujeitos à escrituração junto ao SNGPC.\n",
    "\n",
    "Essa base foi trabalhada na aula de coleta e estruturação de dados. "
   ]
  },
  {
   "cell_type": "code",
   "execution_count": 1,
   "id": "a9d0d386",
   "metadata": {},
   "outputs": [
    {
     "name": "stderr",
     "output_type": "stream",
     "text": [
      "C:\\Users\\ander\\anaconda3\\lib\\site-packages\\urllib3\\connectionpool.py:1045: InsecureRequestWarning: Unverified HTTPS request is being made to host 'dados.anvisa.gov.br'. Adding certificate verification is strongly advised. See: https://urllib3.readthedocs.io/en/1.26.x/advanced-usage.html#ssl-warnings\n",
      "  warnings.warn(\n"
     ]
    },
    {
     "name": "stdout",
     "output_type": "stream",
     "text": [
      "Download concluído com sucesso!\n"
     ]
    }
   ],
   "source": [
    "import pandas as pd\n",
    "import requests\n",
    "\n",
    "# Utilizar um link com a estrutura identificada\n",
    "url = 'https://dados.anvisa.gov.br/dados/SNGPC/Manipulados/EDA_Manipulados_201402.csv'\n",
    "\n",
    "#Fazer a requisição do arquivo\n",
    "resposta = requests.get(url,verify=False)\n",
    "\n",
    "#Salvar o arquivo em um csv\n",
    "if resposta.status_code == 200:\n",
    "    with open(\"EDA_Manipulados_201402.csv\", \"wb\") as file:\n",
    "        file.write(resposta.content)\n",
    "    print(\"Download concluído com sucesso!\")\n",
    "else:\n",
    "    print(f\"Falha ao baixar o arquivo.\")"
   ]
  },
  {
   "cell_type": "code",
   "execution_count": 2,
   "id": "a3e65e82",
   "metadata": {},
   "outputs": [
    {
     "data": {
      "text/html": [
       "<div>\n",
       "<style scoped>\n",
       "    .dataframe tbody tr th:only-of-type {\n",
       "        vertical-align: middle;\n",
       "    }\n",
       "\n",
       "    .dataframe tbody tr th {\n",
       "        vertical-align: top;\n",
       "    }\n",
       "\n",
       "    .dataframe thead th {\n",
       "        text-align: right;\n",
       "    }\n",
       "</style>\n",
       "<table border=\"1\" class=\"dataframe\">\n",
       "  <thead>\n",
       "    <tr style=\"text-align: right;\">\n",
       "      <th></th>\n",
       "      <th>ANO_VENDA</th>\n",
       "      <th>MES_VENDA</th>\n",
       "      <th>UF_VENDA</th>\n",
       "      <th>MUNICIPIO_VENDA</th>\n",
       "      <th>DCB</th>\n",
       "      <th>PRINCIPIO_ATIVO</th>\n",
       "      <th>QTD_ATIVO_POR_UNID_FARMACOTEC</th>\n",
       "      <th>UNIDADE_MEDIDA_PRINCIPIO_ATIVO</th>\n",
       "      <th>QTD_UNIDADE_FARMACOTECNICA</th>\n",
       "      <th>TIPO_UNIDADE_FARMACOTECNICA</th>\n",
       "      <th>CONSELHO_PRESCRITOR</th>\n",
       "      <th>UF_CONSELHO_PRESCRITOR</th>\n",
       "      <th>TIPO_RECEITUARIO</th>\n",
       "      <th>CID10</th>\n",
       "      <th>SEXO</th>\n",
       "      <th>IDADE</th>\n",
       "      <th>UNIDADE_IDADE</th>\n",
       "    </tr>\n",
       "  </thead>\n",
       "  <tbody>\n",
       "    <tr>\n",
       "      <th>0</th>\n",
       "      <td>2014</td>\n",
       "      <td>2</td>\n",
       "      <td>AC</td>\n",
       "      <td>CRUZEIRO DO SUL</td>\n",
       "      <td>712</td>\n",
       "      <td>CLORIDRATO DE AMITRIPTILINA</td>\n",
       "      <td>0,0125</td>\n",
       "      <td>GRAMA</td>\n",
       "      <td>810</td>\n",
       "      <td>CÁPSULA</td>\n",
       "      <td>CRM</td>\n",
       "      <td>AC</td>\n",
       "      <td>1</td>\n",
       "      <td>NaN</td>\n",
       "      <td>NaN</td>\n",
       "      <td>NaN</td>\n",
       "      <td>NaN</td>\n",
       "    </tr>\n",
       "    <tr>\n",
       "      <th>1</th>\n",
       "      <td>2014</td>\n",
       "      <td>2</td>\n",
       "      <td>AC</td>\n",
       "      <td>CRUZEIRO DO SUL</td>\n",
       "      <td>712</td>\n",
       "      <td>CLORIDRATO DE AMITRIPTILINA</td>\n",
       "      <td>0,025</td>\n",
       "      <td>GRAMA</td>\n",
       "      <td>3510</td>\n",
       "      <td>CÁPSULA</td>\n",
       "      <td>CRM</td>\n",
       "      <td>AC</td>\n",
       "      <td>1</td>\n",
       "      <td>NaN</td>\n",
       "      <td>NaN</td>\n",
       "      <td>NaN</td>\n",
       "      <td>NaN</td>\n",
       "    </tr>\n",
       "    <tr>\n",
       "      <th>2</th>\n",
       "      <td>2014</td>\n",
       "      <td>2</td>\n",
       "      <td>AC</td>\n",
       "      <td>CRUZEIRO DO SUL</td>\n",
       "      <td>1558</td>\n",
       "      <td>CLORIDRATO DE BUPROPIONA</td>\n",
       "      <td>0,15</td>\n",
       "      <td>GRAMA</td>\n",
       "      <td>4239</td>\n",
       "      <td>CÁPSULA</td>\n",
       "      <td>CRM</td>\n",
       "      <td>AC</td>\n",
       "      <td>1</td>\n",
       "      <td>NaN</td>\n",
       "      <td>NaN</td>\n",
       "      <td>NaN</td>\n",
       "      <td>NaN</td>\n",
       "    </tr>\n",
       "    <tr>\n",
       "      <th>3</th>\n",
       "      <td>2014</td>\n",
       "      <td>2</td>\n",
       "      <td>AC</td>\n",
       "      <td>CRUZEIRO DO SUL</td>\n",
       "      <td>1558</td>\n",
       "      <td>CLORIDRATO DE BUPROPIONA</td>\n",
       "      <td>0,3</td>\n",
       "      <td>GRAMA</td>\n",
       "      <td>1080</td>\n",
       "      <td>CÁPSULA</td>\n",
       "      <td>CRM</td>\n",
       "      <td>AC</td>\n",
       "      <td>1</td>\n",
       "      <td>NaN</td>\n",
       "      <td>NaN</td>\n",
       "      <td>NaN</td>\n",
       "      <td>NaN</td>\n",
       "    </tr>\n",
       "    <tr>\n",
       "      <th>4</th>\n",
       "      <td>2014</td>\n",
       "      <td>2</td>\n",
       "      <td>AC</td>\n",
       "      <td>CRUZEIRO DO SUL</td>\n",
       "      <td>2161</td>\n",
       "      <td>CITALOPRAM</td>\n",
       "      <td>0,02</td>\n",
       "      <td>GRAMA</td>\n",
       "      <td>540</td>\n",
       "      <td>CÁPSULA</td>\n",
       "      <td>CRM</td>\n",
       "      <td>AC</td>\n",
       "      <td>1</td>\n",
       "      <td>NaN</td>\n",
       "      <td>NaN</td>\n",
       "      <td>NaN</td>\n",
       "      <td>NaN</td>\n",
       "    </tr>\n",
       "  </tbody>\n",
       "</table>\n",
       "</div>"
      ],
      "text/plain": [
       "   ANO_VENDA  MES_VENDA UF_VENDA  MUNICIPIO_VENDA   DCB  \\\n",
       "0       2014          2       AC  CRUZEIRO DO SUL   712   \n",
       "1       2014          2       AC  CRUZEIRO DO SUL   712   \n",
       "2       2014          2       AC  CRUZEIRO DO SUL  1558   \n",
       "3       2014          2       AC  CRUZEIRO DO SUL  1558   \n",
       "4       2014          2       AC  CRUZEIRO DO SUL  2161   \n",
       "\n",
       "               PRINCIPIO_ATIVO QTD_ATIVO_POR_UNID_FARMACOTEC  \\\n",
       "0  CLORIDRATO DE AMITRIPTILINA                        0,0125   \n",
       "1  CLORIDRATO DE AMITRIPTILINA                         0,025   \n",
       "2     CLORIDRATO DE BUPROPIONA                          0,15   \n",
       "3     CLORIDRATO DE BUPROPIONA                           0,3   \n",
       "4                   CITALOPRAM                          0,02   \n",
       "\n",
       "  UNIDADE_MEDIDA_PRINCIPIO_ATIVO QTD_UNIDADE_FARMACOTECNICA  \\\n",
       "0                          GRAMA                        810   \n",
       "1                          GRAMA                       3510   \n",
       "2                          GRAMA                       4239   \n",
       "3                          GRAMA                       1080   \n",
       "4                          GRAMA                        540   \n",
       "\n",
       "  TIPO_UNIDADE_FARMACOTECNICA CONSELHO_PRESCRITOR UF_CONSELHO_PRESCRITOR  \\\n",
       "0                     CÁPSULA                 CRM                     AC   \n",
       "1                     CÁPSULA                 CRM                     AC   \n",
       "2                     CÁPSULA                 CRM                     AC   \n",
       "3                     CÁPSULA                 CRM                     AC   \n",
       "4                     CÁPSULA                 CRM                     AC   \n",
       "\n",
       "   TIPO_RECEITUARIO CID10  SEXO  IDADE  UNIDADE_IDADE  \n",
       "0                 1   NaN   NaN    NaN            NaN  \n",
       "1                 1   NaN   NaN    NaN            NaN  \n",
       "2                 1   NaN   NaN    NaN            NaN  \n",
       "3                 1   NaN   NaN    NaN            NaN  \n",
       "4                 1   NaN   NaN    NaN            NaN  "
      ]
     },
     "execution_count": 2,
     "metadata": {},
     "output_type": "execute_result"
    }
   ],
   "source": [
    "dados = pd.read_csv('EDA_Manipulados_201402.csv', sep=';', encoding='Latin-1', low_memory=False)\n",
    "dados.head()"
   ]
  },
  {
   "cell_type": "markdown",
   "id": "e6094c42",
   "metadata": {},
   "source": [
    "### Localizar uma tabela em um portal\n",
    "\n",
    "Muitas vezes os dados são publicados no formato de tabela. Saber trabalhar com tabelas, pode facilitar na hora de criar indicadores e compilar as informações publicadas online."
   ]
  },
  {
   "cell_type": "code",
   "execution_count": 4,
   "id": "62652ec2",
   "metadata": {},
   "outputs": [
    {
     "data": {
      "text/html": [
       "<div>\n",
       "<style scoped>\n",
       "    .dataframe tbody tr th:only-of-type {\n",
       "        vertical-align: middle;\n",
       "    }\n",
       "\n",
       "    .dataframe tbody tr th {\n",
       "        vertical-align: top;\n",
       "    }\n",
       "\n",
       "    .dataframe thead th {\n",
       "        text-align: right;\n",
       "    }\n",
       "</style>\n",
       "<table border=\"1\" class=\"dataframe\">\n",
       "  <thead>\n",
       "    <tr style=\"text-align: right;\">\n",
       "      <th></th>\n",
       "      <th>Posição</th>\n",
       "      <th>Região</th>\n",
       "      <th>População</th>\n",
       "      <th>% da pop. total</th>\n",
       "      <th>País comparável (habitantes)</th>\n",
       "    </tr>\n",
       "  </thead>\n",
       "  <tbody>\n",
       "    <tr>\n",
       "      <th>0</th>\n",
       "      <td>1</td>\n",
       "      <td>Região Sudeste</td>\n",
       "      <td>84 847 187</td>\n",
       "      <td>41,80%</td>\n",
       "      <td>Irã (86 143 838)</td>\n",
       "    </tr>\n",
       "    <tr>\n",
       "      <th>1</th>\n",
       "      <td>2</td>\n",
       "      <td>Região Nordeste</td>\n",
       "      <td>54 644 582</td>\n",
       "      <td>26,90%</td>\n",
       "      <td>Myanmar (55 294 979)</td>\n",
       "    </tr>\n",
       "    <tr>\n",
       "      <th>2</th>\n",
       "      <td>3</td>\n",
       "      <td>Região Sul</td>\n",
       "      <td>29 933 315</td>\n",
       "      <td>14,70%</td>\n",
       "      <td>Gana (30 832 019)</td>\n",
       "    </tr>\n",
       "    <tr>\n",
       "      <th>3</th>\n",
       "      <td>4</td>\n",
       "      <td>Região Norte</td>\n",
       "      <td>17 349 619</td>\n",
       "      <td>8,50%</td>\n",
       "      <td>Países Baixos (17 790 060)</td>\n",
       "    </tr>\n",
       "    <tr>\n",
       "      <th>4</th>\n",
       "      <td>5</td>\n",
       "      <td>Região Centro-Oeste</td>\n",
       "      <td>16 287 809</td>\n",
       "      <td>8,02%</td>\n",
       "      <td>Chade (16 818 391)</td>\n",
       "    </tr>\n",
       "  </tbody>\n",
       "</table>\n",
       "</div>"
      ],
      "text/plain": [
       "   Posição               Região   População % da pop. total  \\\n",
       "0        1       Região Sudeste  84 847 187          41,80%   \n",
       "1        2      Região Nordeste  54 644 582          26,90%   \n",
       "2        3           Região Sul  29 933 315          14,70%   \n",
       "3        4         Região Norte  17 349 619           8,50%   \n",
       "4        5  Região Centro-Oeste  16 287 809           8,02%   \n",
       "\n",
       "  País comparável (habitantes)  \n",
       "0             Irã (86 143 838)  \n",
       "1         Myanmar (55 294 979)  \n",
       "2            Gana (30 832 019)  \n",
       "3   Países Baixos (17 790 060)  \n",
       "4           Chade (16 818 391)  "
      ]
     },
     "execution_count": 4,
     "metadata": {},
     "output_type": "execute_result"
    }
   ],
   "source": [
    "import requests\n",
    "from bs4 import BeautifulSoup\n",
    "\n",
    "# Fazer a requisição HTTP\n",
    "url = \"https://pt.wikipedia.org/wiki/Lista_de_unidades_federativas_do_Brasil_por_popula%C3%A7%C3%A3o\"\n",
    "resposta = requests.get(url)\n",
    "resposta.status_code\n",
    "\n",
    "# Criar o objeto BeautifulSoup\n",
    "soup = BeautifulSoup(resposta.content, \"html.parser\")\n",
    "\n",
    "# Encontrar a tabela desejada\n",
    "tabelas = soup.find_all(\"table\", {\"class\": \"wikitable\"})\n",
    "#print(tabelas)\n",
    "\n",
    "base_dados = pd.read_html(str(tabelas))\n",
    "base_dados[1]"
   ]
  },
  {
   "cell_type": "markdown",
   "id": "c9a6553e",
   "metadata": {},
   "source": [
    "### Preenchimento de formulários e submissão de dados\n",
    "\n",
    "\n"
   ]
  },
  {
   "cell_type": "markdown",
   "id": "8af89221",
   "metadata": {},
   "source": [
    "Muitas vezes, ao invés de apenas consumir as informações, precisamos enviar informações para uma página ou serviço. Uma forma de fazer isso, é enviando comandos específicos. Nesse exemplo, vamos utilizar a biblioteca selenium, que simula a navegação nas páginas e permite que o navegador interaja com essas informações. \n",
    "\n",
    "Para isso, precisamos instalar um webdriver \n",
    "https://chromedriver.chromium.org/downloads\n",
    "\n",
    "Para escolher a versão correta, verifique a versão de seu navegador clicando nos três pontos na lateral direita de seu navegador > ajuda > sobre o google chrome\n",
    "\n",
    "Caso esteja utilzando outro navegador, confira qual a versão correta em [Supported Browsers](https://www.selenium.dev/documentation/webdriver/browsers/)\n"
   ]
  },
  {
   "cell_type": "code",
   "execution_count": 35,
   "id": "a71548e2",
   "metadata": {},
   "outputs": [],
   "source": [
    "#pip install selenium \n",
    "from selenium import webdriver\n",
    "from selenium.webdriver.common.by import By\n",
    "\n",
    "option = webdriver.ChromeOptions()\n",
    "option.add_argument(\"-incognito\")\n",
    "option.add_experimental_option(\"excludeSwitches\", ['enable-automation']);\n",
    "#option.add_argument(\"--headless\") \n",
    "#option.add_argument(\"disable-gpu\")\n",
    "browser = webdriver.Chrome(options=option)"
   ]
  },
  {
   "cell_type": "code",
   "execution_count": 36,
   "id": "b2f45993",
   "metadata": {},
   "outputs": [],
   "source": [
    "#Informar url do formulário\n",
    "browser.get(\"https://forms.gle/12M8rdtJeVLK6JHk6\")"
   ]
  },
  {
   "cell_type": "code",
   "execution_count": 37,
   "id": "1c0183b1",
   "metadata": {},
   "outputs": [],
   "source": [
    "# Use the following snippets to get elements by their class names\n",
    "Nome = browser.find_elements(By.CLASS_NAME,'whsOnd')\n",
    "Nome[0].send_keys(\"Meu Nome\")\n",
    "Nome[1].send_keys(\"30\")\n",
    "Nome[2].send_keys(\"São Paulo\")\n",
    "\n",
    "#botoesradiais = browser.find_elements_by_class_name(\"docssharedWizToggleLabeledLabelWrapper\")\n",
    "#caixadeselecao = browser.find_elements_by_class_name(\"quantumWizTogglePapercheckboxInnerBox\")\n",
    "enviar = browser.find_elements(By.CLASS_NAME,'NPEfkd')"
   ]
  },
  {
   "cell_type": "code",
   "execution_count": 38,
   "id": "8048cbaf",
   "metadata": {},
   "outputs": [],
   "source": [
    "# radiobuttons[2].click() #Caso seja múltipla escolha\n",
    "# checkboxes[1].click() #Caso seja múltipla resposta\n",
    "enviar[0].click()"
   ]
  },
  {
   "cell_type": "code",
   "execution_count": 39,
   "id": "eb37155a",
   "metadata": {},
   "outputs": [],
   "source": [
    "browser.close()"
   ]
  },
  {
   "cell_type": "markdown",
   "id": "3a20bdcb",
   "metadata": {},
   "source": [
    "### Exercício 1\n",
    "\n",
    "Para treinar a interação de requisições, confira o [arquivo exercício 1]()."
   ]
  },
  {
   "cell_type": "markdown",
   "id": "bc7a826c",
   "metadata": {},
   "source": [
    "### Agendamento de Tarefas\n",
    "Apenas por questões de definição, automação de tarefas refere-se ao processo de substituir a execução manual de tarefas por scripts, programas ou sistemas automatizados. Ao optar por automatizar tarefas, buscamos reduzir ou eliminar a necessidade de intervenção humana repetitiva em tarefas rotineiras e de baixo valor agregado.\n",
    "\n",
    "Existem várias maneiras de agendar tarefas dos códigos em Python. A escolha do método adequado vai depender das necessidades do seu projeto e do ambiente em que você está trabalhando. Alguns dos principais métodos são: \n",
    "- Crontab: muito usado em sistemas baseados em Unix\n",
    "- Celery: para tarefas em segundo plano\n",
    "- APScheduler: biblioteca python para agendamento de tarefas\n",
    "- Windows Task: agendador de tarefas do Windows\n",
    "\n",
    "### Windows Task Scheduler\n",
    "Após desenvolver nossos scripts, precisamos automatizar a execução. Agora vamos descobrir onde o python está instalado. \n",
    "\n",
    "Abra o _Prompt de comando_ no windows e digite:\n",
    "\n",
    "\n",
    "    python -c “import sys; print(sys.executable)”\n",
    "\n",
    "<img src=\"https://drive.google.com/uc?id=1y-sL3GaDzeOpe-9n-bMXYArPC3N3HbPo\" width=\"400\" align=\"left\"/>"
   ]
  },
  {
   "cell_type": "markdown",
   "id": "852aed03",
   "metadata": {},
   "source": [
    "Salve esse caminho"
   ]
  },
  {
   "cell_type": "markdown",
   "id": "606fd3b1",
   "metadata": {},
   "source": [
    "Agora, certifique-se que seu script está testado e funcionando, além disso, no caso do python, precisaremos que o script esteja com a extensão .py. Caso tenha desenvolvido no jupyter, faça o download na extensão .py."
   ]
  },
  {
   "cell_type": "markdown",
   "id": "ad286dc0",
   "metadata": {},
   "source": [
    "### Configurar Agendador\n",
    "\n",
    "Caso o Windows esteja em português, basta procurar por Agendador de Tarefas. \n",
    "\n",
    "<img src=\"https://drive.google.com/uc?id=13dmWusClInfVcz1msOD-4w_emIYFr1kO\" width=\"200\" align=\"left\"/>"
   ]
  },
  {
   "cell_type": "markdown",
   "id": "7019cc0c",
   "metadata": {},
   "source": [
    "Na tela Inicial, basta clicar em criar tarefa\n",
    "\n",
    "\n",
    "<img src=\"https://drive.google.com/uc?id=153EMGy1LU58RDC_A45fF4QeprSNIvUde\" width=\"400\" align=\"left\"/>\n",
    "\n",
    "\n"
   ]
  },
  {
   "cell_type": "markdown",
   "id": "9b80608d",
   "metadata": {},
   "source": [
    "Na aba geral, dê um nome para sua tarefa. \n",
    "\n",
    "Na tela de ações, escolha Iniciar um Programa, e em seguida, cole o caminho do executável do python que executamos na etapa anterior. \n",
    "\n",
    "Ainda em ações, em Adicione argumentos (opcional), informe qual é o arquivo que será executado com o caminho completo. \n",
    "\n",
    "<img src=\"https://drive.google.com/uc?id=1O1nrsIH7DwblwATfFB1faHL3_oZyCicN\" width=\"400\" align=\"left\"/>\n",
    "\n"
   ]
  },
  {
   "cell_type": "markdown",
   "id": "9d7ff42b",
   "metadata": {},
   "source": [
    "Em disparadores, basta informar qual é a recorrência das ações. \n",
    "\n",
    "<img src=\"https://drive.google.com/uc?id=12bdPcXmlFCeon6cIuQ0DD6GZBfBHGfkS\" width=\"400\" align=\"left\"/>\n",
    "\n"
   ]
  },
  {
   "cell_type": "markdown",
   "id": "7ae73b8e",
   "metadata": {},
   "source": [
    "Pronto, agora basta procurar sua tarefa na lista de tarefas. Ao clicar em sua tarefa, note que um painel de ações irá aparecer. Você pode aguardar o horário agendado ou executar manualmente. Além disso, é possível visualizar o histórico de execução, pausar a tarefa ou mesmo excluí-la.\n",
    "\n",
    "\n",
    "<img src=\"https://drive.google.com/uc?id=1gUVckZ1u-FYHusySzDECXia-g94I_2yW\" width=\"200\" align=\"left\"/>"
   ]
  },
  {
   "cell_type": "markdown",
   "id": "68f5cc7f",
   "metadata": {},
   "source": [
    "Pronto, agora sua tarefa está agendada e rodando com sucesso. "
   ]
  },
  {
   "cell_type": "markdown",
   "id": "8064f48e",
   "metadata": {},
   "source": [
    "## Outras tarefas úteis"
   ]
  },
  {
   "cell_type": "markdown",
   "id": "80dcc7f7",
   "metadata": {},
   "source": [
    "### Enviar e-mail"
   ]
  },
  {
   "cell_type": "code",
   "execution_count": 54,
   "id": "8ceb6092",
   "metadata": {},
   "outputs": [],
   "source": [
    "import smtplib\n",
    "from email.mime.text import MIMEText\n",
    "from email.mime.multipart import MIMEMultipart\n",
    "\n",
    "# Configurações do servidor SMTP e informações\n",
    "smtp_server = 'smtp.exemplo.com'  # Servidor SMTP\n",
    "smtp_port = 587  # Porta SMTP\n",
    "remetente_email = 'remetente@exemplo.com'  # E-mail do remetente\n",
    "remetente_password = 'senha'  # Senha do remetente\n",
    "\n",
    "# Informações do destinatário e conteúdo do e-mail\n",
    "destinatario_email = 'destinatario@exemplo.com'  # E-mail do destinatário\n",
    "subject = 'Assunto do e-mail'\n",
    "message = 'Corpo do e-mail'\n",
    "\n",
    "# Criar objeto MIMEMultipart para construir o e-mail\n",
    "email = MIMEMultipart()\n",
    "email['From'] = remetente_email\n",
    "email['To'] = destinatario_email\n",
    "email['Subject'] = subject\n",
    "\n",
    "# Adicionar o corpo do e-mail\n",
    "email.attach(MIMEText(message, 'plain'))\n",
    "\n",
    "# Configurar a conexão SMTP\n",
    "with smtplib.SMTP(smtp_server, smtp_port) as server:\n",
    "    server.starttls()\n",
    "    server.login(remetente_email, remetente_password)\n",
    "\n",
    "    # Enviar o e-mail\n",
    "    server.send_message(email)\n",
    "\n",
    "print('E-mail enviado com sucesso!')"
   ]
  }
 ],
 "metadata": {
  "kernelspec": {
   "display_name": "Python 3 (ipykernel)",
   "language": "python",
   "name": "python3"
  },
  "language_info": {
   "codemirror_mode": {
    "name": "ipython",
    "version": 3
   },
   "file_extension": ".py",
   "mimetype": "text/x-python",
   "name": "python",
   "nbconvert_exporter": "python",
   "pygments_lexer": "ipython3",
   "version": "3.9.13"
  }
 },
 "nbformat": 4,
 "nbformat_minor": 5
}
