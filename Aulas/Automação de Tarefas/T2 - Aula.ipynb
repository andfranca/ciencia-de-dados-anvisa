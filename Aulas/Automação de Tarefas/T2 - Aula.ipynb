{
 "cells": [
  {
   "cell_type": "markdown",
   "id": "4f6fff29",
   "metadata": {},
   "source": [
    "### Criação de arquivos e diretórios"
   ]
  },
  {
   "cell_type": "code",
   "execution_count": 2,
   "id": "edeb9ae6",
   "metadata": {},
   "outputs": [],
   "source": [
    "import os\n",
    "\n",
    "diretorio = 'caminho/do/arquivo'"
   ]
  },
  {
   "cell_type": "code",
   "execution_count": 7,
   "id": "f5317ef3",
   "metadata": {},
   "outputs": [
    {
     "name": "stdout",
     "output_type": "stream",
     "text": [
      "Dirtório caminho/do/arquivo criado com sucesso.\n"
     ]
    }
   ],
   "source": [
    "if not os.path.exists(diretorio):\n",
    "    os.makedirs(diretorio)\n",
    "    print(f'Dirtório {diretorio} criado com sucesso.')\n",
    "else:\n",
    "    print(f'Diretorio {diretorio} já existe.')"
   ]
  },
  {
   "cell_type": "code",
   "execution_count": 8,
   "id": "0604e385",
   "metadata": {},
   "outputs": [],
   "source": [
    "import csv\n",
    "import json\n",
    "import pandas"
   ]
  },
  {
   "cell_type": "markdown",
   "id": "ea59cda5",
   "metadata": {},
   "source": [
    "### Renomear arquivos"
   ]
  },
  {
   "cell_type": "code",
   "execution_count": 11,
   "id": "c4c2bebb",
   "metadata": {},
   "outputs": [],
   "source": [
    "import os\n",
    "\n",
    "caminho_antigo = 'caminho/do/arquivo/contatos.csv'\n",
    "novo_nome = 'caminho/do/arquivo/contatos_novo.csv'\n",
    "\n",
    "os.rename(caminho_antigo,novo_nome)"
   ]
  },
  {
   "cell_type": "code",
   "execution_count": 12,
   "id": "8535da3e",
   "metadata": {},
   "outputs": [],
   "source": [
    "import os\n",
    "\n",
    "caminho_arquivo = 'caminho/do/arquivo/contatos_novo.csv'\n",
    "\n",
    "os.remove(caminho_arquivo)"
   ]
  },
  {
   "cell_type": "code",
   "execution_count": null,
   "id": "59e3afe9",
   "metadata": {},
   "outputs": [],
   "source": [
    "import shutil\n",
    "\n",
    "caminho_pasta = 'caminho'\n",
    "shutil.rmtree(caminho_pasta)"
   ]
  },
  {
   "cell_type": "markdown",
   "id": "eb2f516b",
   "metadata": {},
   "source": [
    "### Simular navegação"
   ]
  },
  {
   "cell_type": "code",
   "execution_count": 16,
   "id": "2cadf5c1",
   "metadata": {},
   "outputs": [],
   "source": [
    "#!pip install selenium"
   ]
  },
  {
   "cell_type": "code",
   "execution_count": 17,
   "id": "f7e33cd2",
   "metadata": {},
   "outputs": [],
   "source": [
    "from selenium import webdriver\n",
    "from selenium.webdriver.common.by import By"
   ]
  },
  {
   "cell_type": "code",
   "execution_count": 48,
   "id": "6c141790",
   "metadata": {},
   "outputs": [],
   "source": [
    "option = webdriver.ChromeOptions()\n",
    "option.add_argument('-icognito')\n",
    "option.add_argument('--headless')\n",
    "\n",
    "navegador = webdriver.Chrome(options=option)\n",
    "\n",
    "navegador.get('https://forms.gle/12M8rdtJeVLK6JHk6')\n",
    "campos = navegador.find_elements(By.CLASS_NAME,'whsOnd')\n",
    "campos[0].send_keys('Anderson2')\n",
    "campos[1].send_keys('31')\n",
    "campos[2].send_keys('São Paulo2')\n",
    "enviar = navegador.find_elements(By.CLASS_NAME,'NPEfkd')\n",
    "enviar[0].click()\n",
    "navegador.close()"
   ]
  },
  {
   "cell_type": "code",
   "execution_count": null,
   "id": "0120f67e",
   "metadata": {},
   "outputs": [],
   "source": []
  }
 ],
 "metadata": {
  "kernelspec": {
   "display_name": "Python 3 (ipykernel)",
   "language": "python",
   "name": "python3"
  },
  "language_info": {
   "codemirror_mode": {
    "name": "ipython",
    "version": 3
   },
   "file_extension": ".py",
   "mimetype": "text/x-python",
   "name": "python",
   "nbconvert_exporter": "python",
   "pygments_lexer": "ipython3",
   "version": "3.9.13"
  }
 },
 "nbformat": 4,
 "nbformat_minor": 5
}
