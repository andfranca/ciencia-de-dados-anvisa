{
 "cells": [
  {
   "cell_type": "code",
   "execution_count": 1,
   "id": "ad460649",
   "metadata": {},
   "outputs": [],
   "source": [
    "import pandas as pd"
   ]
  },
  {
   "cell_type": "code",
   "execution_count": 3,
   "id": "89a90727",
   "metadata": {},
   "outputs": [],
   "source": [
    "base = pd.read_csv('C:/Users/ander/OneDrive/Área de Trabalho/ciencia-de-dados-anvisa/Aulas/Automação de Tarefas/contatos.csv')"
   ]
  },
  {
   "cell_type": "code",
   "execution_count": 4,
   "id": "6156c956",
   "metadata": {},
   "outputs": [
    {
     "data": {
      "text/html": [
       "<div>\n",
       "<style scoped>\n",
       "    .dataframe tbody tr th:only-of-type {\n",
       "        vertical-align: middle;\n",
       "    }\n",
       "\n",
       "    .dataframe tbody tr th {\n",
       "        vertical-align: top;\n",
       "    }\n",
       "\n",
       "    .dataframe thead th {\n",
       "        text-align: right;\n",
       "    }\n",
       "</style>\n",
       "<table border=\"1\" class=\"dataframe\">\n",
       "  <thead>\n",
       "    <tr style=\"text-align: right;\">\n",
       "      <th></th>\n",
       "      <th>Nome</th>\n",
       "      <th>Email</th>\n",
       "      <th>Documento</th>\n",
       "      <th>Reclamacao</th>\n",
       "    </tr>\n",
       "  </thead>\n",
       "  <tbody>\n",
       "    <tr>\n",
       "      <th>0</th>\n",
       "      <td>Noah Daniel Pereira</td>\n",
       "      <td>noah_pereira@marcenariamagno.com.br</td>\n",
       "      <td>990.593.197-02</td>\n",
       "      <td>Estou extremamente insatisfeito com o atendime...</td>\n",
       "    </tr>\n",
       "    <tr>\n",
       "      <th>1</th>\n",
       "      <td>Mariane Sophie Malu Costa</td>\n",
       "      <td>marianesophiecosta@tribunaimpressa.com.br</td>\n",
       "      <td>080.551.886-02</td>\n",
       "      <td>Fiz uma ligação para o suporte e tive uma expe...</td>\n",
       "    </tr>\n",
       "    <tr>\n",
       "      <th>2</th>\n",
       "      <td>Luzia Yasmin Bernardes</td>\n",
       "      <td>luzia_yasmin_bernardes@omnibrasil.com.br</td>\n",
       "      <td>718.879.199-61</td>\n",
       "      <td>Recentemente, tentei entrar em contato com a e...</td>\n",
       "    </tr>\n",
       "    <tr>\n",
       "      <th>3</th>\n",
       "      <td>Bruna Maitê Tereza Novaes</td>\n",
       "      <td>bruna_maite_novaes@santacasasjc.com.br</td>\n",
       "      <td>464.169.524-59</td>\n",
       "      <td>Fui a um restaurante e o serviço foi simplesme...</td>\n",
       "    </tr>\n",
       "    <tr>\n",
       "      <th>4</th>\n",
       "      <td>Enzo Oliver da Conceição</td>\n",
       "      <td>enzo_daconceicao@superativacoop.com.br</td>\n",
       "      <td>580.397.710-13</td>\n",
       "      <td>Contratei um serviço de entrega e fiquei extre...</td>\n",
       "    </tr>\n",
       "  </tbody>\n",
       "</table>\n",
       "</div>"
      ],
      "text/plain": [
       "                        Nome                                      Email  \\\n",
       "0        Noah Daniel Pereira        noah_pereira@marcenariamagno.com.br   \n",
       "1  Mariane Sophie Malu Costa  marianesophiecosta@tribunaimpressa.com.br   \n",
       "2     Luzia Yasmin Bernardes   luzia_yasmin_bernardes@omnibrasil.com.br   \n",
       "3  Bruna Maitê Tereza Novaes     bruna_maite_novaes@santacasasjc.com.br   \n",
       "4   Enzo Oliver da Conceição     enzo_daconceicao@superativacoop.com.br   \n",
       "\n",
       "        Documento                                         Reclamacao  \n",
       "0  990.593.197-02  Estou extremamente insatisfeito com o atendime...  \n",
       "1  080.551.886-02  Fiz uma ligação para o suporte e tive uma expe...  \n",
       "2  718.879.199-61  Recentemente, tentei entrar em contato com a e...  \n",
       "3  464.169.524-59  Fui a um restaurante e o serviço foi simplesme...  \n",
       "4  580.397.710-13  Contratei um serviço de entrega e fiquei extre...  "
      ]
     },
     "execution_count": 4,
     "metadata": {},
     "output_type": "execute_result"
    }
   ],
   "source": [
    "base"
   ]
  },
  {
   "cell_type": "code",
   "execution_count": 17,
   "id": "6989df12",
   "metadata": {},
   "outputs": [],
   "source": [
    "from selenium import webdriver\n",
    "from selenium.webdriver.support.ui import WebDriverWait\n",
    "from selenium.webdriver.common.by import By\n",
    "from selenium.webdriver.support import expected_conditions as EC"
   ]
  },
  {
   "cell_type": "code",
   "execution_count": 21,
   "id": "49aab05e",
   "metadata": {},
   "outputs": [],
   "source": [
    "navegador = webdriver.Chrome()"
   ]
  },
  {
   "cell_type": "code",
   "execution_count": 22,
   "id": "d6998988",
   "metadata": {},
   "outputs": [
    {
     "name": "stdout",
     "output_type": "stream",
     "text": [
      "Espera\n",
      "Espera\n",
      "Espera\n",
      "Espera\n",
      "Espera\n"
     ]
    }
   ],
   "source": [
    "#option = webdriver.ChromeOptions()\n",
    "#option.add_argument('--headless')\n",
    "#option.add_argument('-icognito')\n",
    "navegador.get('https://docs.google.com/forms/d/e/1FAIpQLSdT0xjrydYR1gHi9yT8t6IkKNcqeH7AfE1PxKmUcQebusDwwA/viewform?usp=sf_link')   \n",
    "\n",
    "# Identificar campos e botão enviar\n",
    "#elementos = navegador.find_elements(By.CLASS_NAME,'whsOnd')\n",
    "#elementos_texto = navegador.find_elements(By.CLASS_NAME,'KHxj8b')\n",
    "#botao_enviar = navegador.find_elements(By.CLASS_NAME,'NPEfkd')\n",
    "\n",
    "for index, row in base.iterrows():\n",
    "    nome = row['Nome']\n",
    "    email = row['Email']\n",
    "    documento = row['Documento']\n",
    "    reclamacao = row['Reclamacao']\n",
    "     \n",
    "    # Identificar campos e botão enviar\n",
    "    elementos = navegador.find_elements(By.CLASS_NAME,'whsOnd')\n",
    "    elementos_texto = navegador.find_elements(By.CLASS_NAME,'KHxj8b')\n",
    "    botao_enviar = navegador.find_elements(By.CLASS_NAME,'NPEfkd')    \n",
    "        \n",
    "        \n",
    "    # Preenchimento dos dados\n",
    "    elementos[0].send_keys(nome)\n",
    "    elementos[1].send_keys(email)\n",
    "    elementos[2].send_keys(documento)\n",
    "    elementos_texto[0].send_keys(reclamacao)\n",
    "    \n",
    "    botao_enviar = navegador.find_elements(By.CLASS_NAME,'NPEfkd')\n",
    "    # Enviar formulário\n",
    "    botao_enviar[0].click()   \n",
    "       \n",
    "    \n",
    "    outra_resposta = navegador.find_elements(By.LINK_TEXT,'Enviar outra resposta')\n",
    "    # Enviar formulário\n",
    "    outra_resposta[0].click()\n",
    "    print('Espera')\n",
    "    #espera = WebDriverWait(navegador,10)\n",
    "    #elemento_carregado = espera.until(EC.visibility_of_element_located((By.CLASS_NAME,'whsOnd')))\n",
    "    \n",
    "navegador.quit()"
   ]
  }
 ],
 "metadata": {
  "kernelspec": {
   "display_name": "Python 3 (ipykernel)",
   "language": "python",
   "name": "python3"
  },
  "language_info": {
   "codemirror_mode": {
    "name": "ipython",
    "version": 3
   },
   "file_extension": ".py",
   "mimetype": "text/x-python",
   "name": "python",
   "nbconvert_exporter": "python",
   "pygments_lexer": "ipython3",
   "version": "3.9.13"
  }
 },
 "nbformat": 4,
 "nbformat_minor": 5
}
