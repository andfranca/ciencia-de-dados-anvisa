{
 "cells": [
  {
   "cell_type": "code",
   "execution_count": 1,
   "id": "ad460649",
   "metadata": {},
   "outputs": [],
   "source": [
    "import pandas as pd"
   ]
  },
  {
   "cell_type": "code",
   "execution_count": 2,
   "id": "89a90727",
   "metadata": {},
   "outputs": [],
   "source": [
    "base = pd.read_csv('contatos.csv')"
   ]
  },
  {
   "cell_type": "code",
   "execution_count": 38,
   "id": "6989df12",
   "metadata": {},
   "outputs": [],
   "source": [
    "from selenium import webdriver\n",
    "from selenium.webdriver.common.by import By"
   ]
  },
  {
   "cell_type": "code",
   "execution_count": null,
   "id": "d6998988",
   "metadata": {},
   "outputs": [],
   "source": [
    "#option = webdriver.ChromeOptions()\n",
    "#option.add_argument('--headless')\n",
    "#option.add_argument('-icognito')\n",
    "\n",
    "navegador = webdriver.Chrome()\n",
    "navegador.get('https://docs.google.com/forms/d/e/1FAIpQLSdT0xjrydYR1gHi9yT8t6IkKNcqeH7AfE1PxKmUcQebusDwwA/viewform?usp=sf_link')   \n",
    "\n",
    "# Identificar campos e botão enviar\n",
    "elementos = navegador.find_elements(By.CLASS_NAME,'whsOnd')\n",
    "elementos_texto = navegador.find_elements(By.CLASS_NAME,'KHxj8b')\n",
    "botao_enviar = navegador.find_elements(By.CLASS_NAME,'NPEfkd')\n",
    "\n",
    "for index, row in base.iterrows():\n",
    "    nome = row['Nome']\n",
    "    email = row['Email']\n",
    "    documento = row['Documento']\n",
    "    reclamacao = row['Reclamacao']\n",
    "          \n",
    "    # Preenchimento dos dados\n",
    "    elementos[0].send_keys(nome)\n",
    "    elementos[1].send_keys(email)\n",
    "    elementos[2].send_keys(documento)\n",
    "    elementos_texto[0].send_keys(reclamacao)\n",
    "    \n",
    "    botao_enviar = navegador.find_elements(By.CLASS_NAME,'NPEfkd')\n",
    "    # Enviar formulário\n",
    "    botao_enviar[0].click()   \n",
    "       \n",
    "    \n",
    "    outra_resposta = navegador.find_elements(By.LINK_TEXT,'Enviar outra resposta')\n",
    "    # Enviar formulário\n",
    "    outra_resposta[0].click()\n",
    "    \n",
    "navegador.quit()"
   ]
  }
 ],
 "metadata": {
  "kernelspec": {
   "display_name": "Python 3 (ipykernel)",
   "language": "python",
   "name": "python3"
  },
  "language_info": {
   "codemirror_mode": {
    "name": "ipython",
    "version": 3
   },
   "file_extension": ".py",
   "mimetype": "text/x-python",
   "name": "python",
   "nbconvert_exporter": "python",
   "pygments_lexer": "ipython3",
   "version": "3.9.13"
  }
 },
 "nbformat": 4,
 "nbformat_minor": 5
}
