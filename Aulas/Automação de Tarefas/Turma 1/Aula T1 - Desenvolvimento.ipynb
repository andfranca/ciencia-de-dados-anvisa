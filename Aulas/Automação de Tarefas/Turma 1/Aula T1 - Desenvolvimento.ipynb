{
 "cells": [
  {
   "cell_type": "code",
   "execution_count": 4,
   "id": "1b7e9099",
   "metadata": {},
   "outputs": [],
   "source": [
    "#pip install selenium\n",
    "from selenium import webdriver\n",
    "from selenium.webdriver.common.by import By"
   ]
  },
  {
   "cell_type": "code",
   "execution_count": 8,
   "id": "2e9db39e",
   "metadata": {},
   "outputs": [],
   "source": [
    "# Acessar Navegador e página de interesse\n",
    "navegador = webdriver.Chrome()\n",
    "navegador.get('https://docs.google.com/forms/d/e/1FAIpQLSfDvcPhOFnflvOQtR2r2JJbNLB-QSQyNY26VbLsjOK1pydWpQ/viewform?usp=sf_link')"
   ]
  },
  {
   "cell_type": "code",
   "execution_count": 10,
   "id": "637587bd",
   "metadata": {},
   "outputs": [],
   "source": [
    "# Identificar campos e botão enviar\n",
    "elementos = navegador.find_elements(By.CLASS_NAME,'whsOnd')\n",
    "botao_enviar = navegador.find_elements(By.CLASS_NAME,'NPEfkd')"
   ]
  },
  {
   "cell_type": "code",
   "execution_count": 13,
   "id": "79c7910e",
   "metadata": {},
   "outputs": [],
   "source": [
    "# Preenchimento dos dados\n",
    "elementos[0].send_keys('Anderson')\n",
    "elementos[1].send_keys('30')\n",
    "elementos[2].send_keys('São Paulo')"
   ]
  },
  {
   "cell_type": "code",
   "execution_count": null,
   "id": "4379feac",
   "metadata": {},
   "outputs": [],
   "source": [
    "# Enviar formulário\n",
    "botao_enviar[0].click()"
   ]
  },
  {
   "cell_type": "code",
   "execution_count": null,
   "id": "89fbb9fa",
   "metadata": {},
   "outputs": [],
   "source": [
    "base = pd.read_csv('contatos.csv')\n",
    "\n",
    "for index, row in base.iterrows():\n",
    "    nome = row['Nome']\n",
    "    email = row['Email']\n",
    "    documento = row['Documento']\n",
    "    reclamacao = row['Reclamacao']\n",
    "    \n",
    "    print(f'{nome},{email}')"
   ]
  },
  {
   "cell_type": "code",
   "execution_count": null,
   "id": "b83dbe60",
   "metadata": {},
   "outputs": [],
   "source": [
    "python -c \"import sys;print(sys.executable)\""
   ]
  },
  {
   "cell_type": "code",
   "execution_count": 18,
   "id": "cfa430b7",
   "metadata": {},
   "outputs": [],
   "source": [
    "import sys"
   ]
  },
  {
   "cell_type": "code",
   "execution_count": 19,
   "id": "19ffa1b7",
   "metadata": {},
   "outputs": [
    {
     "name": "stdout",
     "output_type": "stream",
     "text": [
      "C:\\Users\\ander\\anaconda3\\python.exe\n"
     ]
    }
   ],
   "source": [
    "print(sys.executable)"
   ]
  },
  {
   "cell_type": "code",
   "execution_count": null,
   "id": "e8fb20e7",
   "metadata": {},
   "outputs": [],
   "source": [
    "C:\\Users\\ander\\anaconda3\\python.exe\n",
    "C:\\Users\\ander\\AppData\\Local\\Microsoft\\WindowsApps\\PythonSoftwareFoundation.Python.3.9_qbz5n2kfra8p0\\python.exe"
   ]
  }
 ],
 "metadata": {
  "kernelspec": {
   "display_name": "Python 3 (ipykernel)",
   "language": "python",
   "name": "python3"
  },
  "language_info": {
   "codemirror_mode": {
    "name": "ipython",
    "version": 3
   },
   "file_extension": ".py",
   "mimetype": "text/x-python",
   "name": "python",
   "nbconvert_exporter": "python",
   "pygments_lexer": "ipython3",
   "version": "3.9.13"
  }
 },
 "nbformat": 4,
 "nbformat_minor": 5
}
