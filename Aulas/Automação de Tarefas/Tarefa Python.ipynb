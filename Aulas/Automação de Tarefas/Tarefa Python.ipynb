{
 "cells": [
  {
   "cell_type": "code",
   "execution_count": 8,
   "id": "ebf27b7f",
   "metadata": {
    "scrolled": true
   },
   "outputs": [],
   "source": [
    "import csv\n",
    "import datetime\n",
    "\n",
    "def criar_arquivo_csv():\n",
    "    # Obter a data e hora atual\n",
    "    data_hora_atual = datetime.datetime.now().strftime('%Y%m%d%H%M')\n",
    "\n",
    "    # Definir o nome do arquivo com base na data e hora atual\n",
    "    nome_arquivo = f'C:/Users/ander/OneDrive/Área de Trabalho/ciencia-de-dados-anvisa/Scripts/arquivo_{data_hora_atual}.csv'\n",
    "\n",
    "    # Criar o arquivo CSV\n",
    "    with open(nome_arquivo, 'w', newline='') as arquivo:\n",
    "        writer = csv.writer(arquivo)\n",
    "        writer.writerow(['Coluna 1', 'Coluna 2', 'Coluna 3'])\n",
    "        # Adicionar linhas adicionais ao arquivo, se necessário\n",
    "\n",
    "    #print(f'Criado arquivo: {nome_arquivo}')\n",
    "\n",
    "# Chamar a função criar_arquivo_csv para criar um novo arquivo CSV\n",
    "criar_arquivo_csv()"
   ]
  }
 ],
 "metadata": {
  "kernelspec": {
   "display_name": "Python 3 (ipykernel)",
   "language": "python",
   "name": "python3"
  },
  "language_info": {
   "codemirror_mode": {
    "name": "ipython",
    "version": 3
   },
   "file_extension": ".py",
   "mimetype": "text/x-python",
   "name": "python",
   "nbconvert_exporter": "python",
   "pygments_lexer": "ipython3",
   "version": "3.9.13"
  }
 },
 "nbformat": 4,
 "nbformat_minor": 5
}
