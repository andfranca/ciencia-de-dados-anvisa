{
 "cells": [
  {
   "cell_type": "code",
   "execution_count": 2,
   "id": "c653181c",
   "metadata": {},
   "outputs": [],
   "source": [
    "from selenium import webdriver\n",
    "from selenium.webdriver.common.by import By"
   ]
  },
  {
   "cell_type": "code",
   "execution_count": 6,
   "id": "ba39aa7c",
   "metadata": {},
   "outputs": [],
   "source": [
    "option = webdriver.ChromeOptions()\n",
    "option.add_argument('-icognito')\n",
    "#option.add_argument('--headless')\n",
    "navegador = webdriver.Chrome(options=option)"
   ]
  },
  {
   "cell_type": "code",
   "execution_count": 7,
   "id": "98c9ce85",
   "metadata": {},
   "outputs": [],
   "source": [
    "navegador.get('http://sinan.saude.gov.br/sinan/login/login.jsf')"
   ]
  },
  {
   "cell_type": "code",
   "execution_count": 11,
   "id": "9481b53b",
   "metadata": {},
   "outputs": [],
   "source": [
    "usuario = navegador.find_element(By.ID,'form:username')"
   ]
  },
  {
   "cell_type": "code",
   "execution_count": 12,
   "id": "75cf33b8",
   "metadata": {},
   "outputs": [],
   "source": [
    "senha = navegador.find_element(By.ID,'form:password')"
   ]
  },
  {
   "cell_type": "code",
   "execution_count": 14,
   "id": "54a24dbc",
   "metadata": {},
   "outputs": [],
   "source": [
    "usuario.send_keys('Teste')\n",
    "senha.send_keys('123456789')"
   ]
  },
  {
   "cell_type": "code",
   "execution_count": 15,
   "id": "94cf910c",
   "metadata": {},
   "outputs": [],
   "source": [
    "botao_enviar = navegador.find_element(By.NAME,'form:j_id21')"
   ]
  },
  {
   "cell_type": "code",
   "execution_count": 17,
   "id": "8ddbc40f",
   "metadata": {},
   "outputs": [],
   "source": [
    "botao_enviar.click()"
   ]
  },
  {
   "cell_type": "code",
   "execution_count": 18,
   "id": "6f02b9af",
   "metadata": {},
   "outputs": [],
   "source": [
    "navegador.close()"
   ]
  },
  {
   "cell_type": "code",
   "execution_count": null,
   "id": "7755bce6",
   "metadata": {},
   "outputs": [],
   "source": []
  }
 ],
 "metadata": {
  "kernelspec": {
   "display_name": "Python 3 (ipykernel)",
   "language": "python",
   "name": "python3"
  },
  "language_info": {
   "codemirror_mode": {
    "name": "ipython",
    "version": 3
   },
   "file_extension": ".py",
   "mimetype": "text/x-python",
   "name": "python",
   "nbconvert_exporter": "python",
   "pygments_lexer": "ipython3",
   "version": "3.9.13"
  }
 },
 "nbformat": 4,
 "nbformat_minor": 5
}
