{
 "cells": [
  {
   "cell_type": "code",
   "execution_count": null,
   "id": "42b69235",
   "metadata": {},
   "outputs": [],
   "source": [
    "from selenium import webdriver\n",
    "from selenium.webdriver.common.by import By\n",
    "\n",
    "option = webdriver.ChromeOptions()\n",
    "option.add_argument('-icognito')\n",
    "option.add_argument('--headless')\n",
    "\n",
    "navegador = webdriver.Chrome(options=option)\n",
    "\n",
    "navegador.get('https://forms.gle/12M8rdtJeVLK6JHk6')\n",
    "campos = navegador.find_elements(By.CLASS_NAME,'whsOnd')\n",
    "campos[0].send_keys('Anderson2')\n",
    "campos[1].send_keys('31')\n",
    "campos[2].send_keys('São Paulo2')\n",
    "enviar = navegador.find_elements(By.CLASS_NAME,'NPEfkd')\n",
    "enviar[0].click()\n",
    "navegador.close()"
   ]
  }
 ],
 "metadata": {
  "kernelspec": {
   "display_name": "Python 3 (ipykernel)",
   "language": "python",
   "name": "python3"
  },
  "language_info": {
   "codemirror_mode": {
    "name": "ipython",
    "version": 3
   },
   "file_extension": ".py",
   "mimetype": "text/x-python",
   "name": "python",
   "nbconvert_exporter": "python",
   "pygments_lexer": "ipython3",
   "version": "3.9.13"
  }
 },
 "nbformat": 4,
 "nbformat_minor": 5
}
