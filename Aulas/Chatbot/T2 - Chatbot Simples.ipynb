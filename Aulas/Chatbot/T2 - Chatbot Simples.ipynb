{
 "cells": [
  {
   "cell_type": "code",
   "execution_count": 3,
   "id": "3052c93f",
   "metadata": {},
   "outputs": [],
   "source": [
    "#pip install chatterbot==1.0.4\n",
    "#pip install chatterbot_corpus"
   ]
  },
  {
   "cell_type": "code",
   "execution_count": 53,
   "id": "830c1bec",
   "metadata": {},
   "outputs": [
    {
     "name": "stderr",
     "output_type": "stream",
     "text": [
      "[nltk_data] Downloading package rslp to\n",
      "[nltk_data]     C:\\Users\\ander\\AppData\\Roaming\\nltk_data...\n",
      "[nltk_data]   Package rslp is already up-to-date!\n",
      "[nltk_data] Downloading package stopwords to\n",
      "[nltk_data]     C:\\Users\\ander\\AppData\\Roaming\\nltk_data...\n",
      "[nltk_data]   Package stopwords is already up-to-date!\n",
      "[nltk_data] Downloading package punkt to\n",
      "[nltk_data]     C:\\Users\\ander\\AppData\\Roaming\\nltk_data...\n",
      "[nltk_data]   Package punkt is already up-to-date!\n"
     ]
    }
   ],
   "source": [
    "from chatterbot import ChatBot\n",
    "from chatterbot.trainers import ChatterBotCorpusTrainer, ListTrainer\n",
    "import nltk\n",
    "\n",
    "nltk.download('rslp')\n",
    "nltk.download('stopwords')\n",
    "nltk.download('punkt')\n",
    "\n",
    "import time\n",
    "time.clock = time.time"
   ]
  },
  {
   "cell_type": "code",
   "execution_count": 57,
   "id": "242b5496",
   "metadata": {},
   "outputs": [
    {
     "name": "stdout",
     "output_type": "stream",
     "text": [
      "Training compliment.yml: [########            ] 40%"
     ]
    },
    {
     "name": "stderr",
     "output_type": "stream",
     "text": [
      "[nltk_data] Downloading package averaged_perceptron_tagger to\n",
      "[nltk_data]     C:\\Users\\ander\\AppData\\Roaming\\nltk_data...\n",
      "[nltk_data]   Package averaged_perceptron_tagger is already up-to-\n",
      "[nltk_data]       date!\n",
      "[nltk_data] Downloading package punkt to\n",
      "[nltk_data]     C:\\Users\\ander\\AppData\\Roaming\\nltk_data...\n",
      "[nltk_data]   Package punkt is already up-to-date!\n",
      "[nltk_data] Downloading package stopwords to\n",
      "[nltk_data]     C:\\Users\\ander\\AppData\\Roaming\\nltk_data...\n",
      "[nltk_data]   Package stopwords is already up-to-date!\n"
     ]
    },
    {
     "name": "stdout",
     "output_type": "stream",
     "text": [
      "Training compliment.yml: [####################] 100%\n",
      "Training conversations.yml: [####################] 100%\n",
      "Training games.yml: [####################] 100%\n",
      "Training greetings.yml: [####################] 100%\n",
      "Training linguistic_knowledge.yml: [####################] 100%\n",
      "Training money.yml: [####################] 100%\n",
      "Training proverbs.yml: [####################] 100%\n",
      "Training suggestions.yml: [####################] 100%\n",
      "Training trivia.yml: [####################] 100%\n",
      "Training unilab.yml: [####################] 100%\n",
      "List Trainer: [####################] 100%\n"
     ]
    }
   ],
   "source": [
    "bot = ChatBot('MeuBot')\n",
    "corpus_trainer = ChatterBotCorpusTrainer(bot)\n",
    "list_trainer = ListTrainer(bot)\n",
    "\n",
    "corpus_trainer.train('Dados/Portugues/')\n",
    "\n",
    "novas_palavras = [\n",
    "    'Qual o seu nome?','Meu nome é Bot',\n",
    "    'Que dia é o natal?', 'O natal é dia 25 de Dezembro',\n",
    "    'O que é anvisa?', 'Agência Nacional de Vigilância Sanitária (Anvisa) é uma agência reguladora, sob a forma de autarquia de regime especial, vinculada ao Ministério da Saúde. A agência exerce o controle sanitário de todos os produtos e serviços (nacionais ou importados) submetidos à vigilância sanitária, tais como medicamentos, alimentos, cosméticos, saneantes, derivados do tabaco, produtos médicos, sangue, hemoderivados e serviços de saúde.'\n",
    "]\n",
    "\n",
    "list_trainer.train(novas_palavras)"
   ]
  },
  {
   "cell_type": "code",
   "execution_count": 58,
   "id": "553279ef",
   "metadata": {},
   "outputs": [],
   "source": [
    "def get_resposta_bot(user_input):\n",
    "    resposta = bot.get_response(user_input)\n",
    "    return str(resposta)"
   ]
  },
  {
   "cell_type": "code",
   "execution_count": 59,
   "id": "d36a38fa",
   "metadata": {},
   "outputs": [
    {
     "data": {
      "text/plain": [
       "'Agência Nacional de Vigilância Sanitária (Anvisa) é uma agência reguladora, sob a forma de autarquia de regime especial, vinculada ao Ministério da Saúde. A agência exerce o controle sanitário de todos os produtos e serviços (nacionais ou importados) submetidos à vigilância sanitária, tais como medicamentos, alimentos, cosméticos, saneantes, derivados do tabaco, produtos médicos, sangue, hemoderivados e serviços de saúde.'"
      ]
     },
     "execution_count": 59,
     "metadata": {},
     "output_type": "execute_result"
    }
   ],
   "source": [
    "get_resposta_bot('O que é anvisa?')"
   ]
  },
  {
   "cell_type": "code",
   "execution_count": 60,
   "id": "7ae6a5a7",
   "metadata": {
    "scrolled": true
   },
   "outputs": [
    {
     "name": "stdout",
     "output_type": "stream",
     "text": [
      "Eu: O que é anvisa?\n",
      "Bot: Agência Nacional de Vigilância Sanitária (Anvisa) é uma agência reguladora, sob a forma de autarquia de regime especial, vinculada ao Ministério da Saúde. A agência exerce o controle sanitário de todos os produtos e serviços (nacionais ou importados) submetidos à vigilância sanitária, tais como medicamentos, alimentos, cosméticos, saneantes, derivados do tabaco, produtos médicos, sangue, hemoderivados e serviços de saúde.\n",
      "Eu: sair\n"
     ]
    }
   ],
   "source": [
    "while True:\n",
    "    user_input = input('Eu: ')\n",
    "    if user_input.lower() == 'sair':\n",
    "        break\n",
    "    resposta = get_resposta_bot(user_input)\n",
    "    print('Bot: ' + resposta)"
   ]
  },
  {
   "cell_type": "code",
   "execution_count": 61,
   "id": "cdf83f25",
   "metadata": {},
   "outputs": [],
   "source": [
    "import tkinter as tk"
   ]
  },
  {
   "cell_type": "code",
   "execution_count": 62,
   "id": "ec909fe6",
   "metadata": {},
   "outputs": [],
   "source": [
    "def get_resposta_bot_ui():\n",
    "    user_input = user_entry.get()\n",
    "    response = bot.get_response(user_input)\n",
    "    chat_display.config(state=tk.NORMAL)\n",
    "    chat_display.insert(tk.END,'EU: ' + user_input + '\\n')\n",
    "    chat_display.insert(tk.END,'Bot: ' + str(response) + '\\n')\n",
    "    chat_display.config(state=tk.DISABLED)\n",
    "    user_entry.delete(0,tk.END)"
   ]
  },
  {
   "cell_type": "code",
   "execution_count": 63,
   "id": "50146d17",
   "metadata": {},
   "outputs": [],
   "source": [
    "root = tk.Tk()\n",
    "root.title('Chatbot T2')\n",
    "\n",
    "chat_display = tk.Text(root, height=20, width=40, state=tk.DISABLED)\n",
    "chat_display.pack()\n",
    "\n",
    "user_entry = tk.Entry(root, width=50)\n",
    "user_entry.pack()\n",
    "\n",
    "send_button = tk.Button(root, text='Enviar', command=get_resposta_bot_ui)\n",
    "send_button.pack()\n",
    "\n",
    "root.mainloop()"
   ]
  }
 ],
 "metadata": {
  "kernelspec": {
   "display_name": "Python 3 (ipykernel)",
   "language": "python",
   "name": "python3"
  },
  "language_info": {
   "codemirror_mode": {
    "name": "ipython",
    "version": 3
   },
   "file_extension": ".py",
   "mimetype": "text/x-python",
   "name": "python",
   "nbconvert_exporter": "python",
   "pygments_lexer": "ipython3",
   "version": "3.9.13"
  }
 },
 "nbformat": 4,
 "nbformat_minor": 5
}
