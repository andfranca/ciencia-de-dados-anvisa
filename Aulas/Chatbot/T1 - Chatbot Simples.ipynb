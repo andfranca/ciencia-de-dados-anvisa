{
 "cells": [
  {
   "cell_type": "code",
   "execution_count": 53,
   "id": "18ab9333",
   "metadata": {},
   "outputs": [],
   "source": [
    "#!pip install chatterbot==1.0.4\n",
    "#!pip install chatterbot_corpus\n",
    "#!pip install --upgrade PyYaml\n",
    "#!pip install -U PyYaml==3.12\n",
    "#!pip install pyyaml==5.4.1"
   ]
  },
  {
   "cell_type": "code",
   "execution_count": 54,
   "id": "961a16e8",
   "metadata": {},
   "outputs": [
    {
     "name": "stderr",
     "output_type": "stream",
     "text": [
      "[nltk_data] Downloading package rslp to\n",
      "[nltk_data]     C:\\Users\\ander\\AppData\\Roaming\\nltk_data...\n",
      "[nltk_data]   Package rslp is already up-to-date!\n",
      "[nltk_data] Downloading package stopwords to\n",
      "[nltk_data]     C:\\Users\\ander\\AppData\\Roaming\\nltk_data...\n",
      "[nltk_data]   Package stopwords is already up-to-date!\n",
      "[nltk_data] Downloading package punkt to\n",
      "[nltk_data]     C:\\Users\\ander\\AppData\\Roaming\\nltk_data...\n",
      "[nltk_data]   Package punkt is already up-to-date!\n"
     ]
    }
   ],
   "source": [
    "from chatterbot import ChatBot\n",
    "from chatterbot.trainers import ChatterBotCorpusTrainer, ListTrainer\n",
    "\n",
    "import nltk\n",
    "nltk.download('rslp')\n",
    "nltk.download('stopwords')\n",
    "nltk.download('punkt')\n",
    "\n",
    "import time\n",
    "time.clock = time.time"
   ]
  },
  {
   "cell_type": "code",
   "execution_count": 61,
   "id": "d6128c92",
   "metadata": {},
   "outputs": [
    {
     "name": "stdout",
     "output_type": "stream",
     "text": [
      "Training compliment.yml: [######              ] 32%"
     ]
    },
    {
     "name": "stderr",
     "output_type": "stream",
     "text": [
      "[nltk_data] Downloading package averaged_perceptron_tagger to\n",
      "[nltk_data]     C:\\Users\\ander\\AppData\\Roaming\\nltk_data...\n",
      "[nltk_data]   Package averaged_perceptron_tagger is already up-to-\n",
      "[nltk_data]       date!\n",
      "[nltk_data] Downloading package punkt to\n",
      "[nltk_data]     C:\\Users\\ander\\AppData\\Roaming\\nltk_data...\n",
      "[nltk_data]   Package punkt is already up-to-date!\n",
      "[nltk_data] Downloading package stopwords to\n",
      "[nltk_data]     C:\\Users\\ander\\AppData\\Roaming\\nltk_data...\n",
      "[nltk_data]   Package stopwords is already up-to-date!\n"
     ]
    },
    {
     "name": "stdout",
     "output_type": "stream",
     "text": [
      "Training compliment.yml: [####################] 100%\n",
      "Training conversations.yml: [####################] 100%\n",
      "Training greetings.yml: [####################] 100%\n",
      "Training linguistic_knowledge.yml: [####################] 100%\n",
      "Training proverbs.yml: [####################] 100%\n",
      "Training suggestions.yml: [####################] 100%\n",
      "Training trivia.yml: [####################] 100%\n",
      "Training unilab.yml: [####################] 100%\n",
      "List Trainer: [####################] 100%\n"
     ]
    }
   ],
   "source": [
    "bot = ChatBot('MeuChatBot')\n",
    "\n",
    "corpus_trainer = ChatterBotCorpusTrainer(bot)\n",
    "lista_trainer = ListTrainer(bot)\n",
    "\n",
    "corpus_trainer.train('chatterbot.corpus.portuguese')\n",
    "\n",
    "#adicionar novas perguntas e respostas\n",
    "novos_pares = [\n",
    "    \"Qual o seu nome?\",\"Meu nome é ChatBot\",\n",
    "    \"O que é o ministério da Saúde\",\"O Ministério da Saúde (MS) corresponde ao setor governamental responsável pela administração e manutenção da Saúde pública no Brasil.\"\n",
    "    ]\n",
    "\n",
    "lista_trainer.train(novos_pares)"
   ]
  },
  {
   "cell_type": "code",
   "execution_count": 55,
   "id": "9b14679d",
   "metadata": {},
   "outputs": [],
   "source": [
    "def get_bot_resposta(user_input):\n",
    "    resposta = bot.get_response(user_input)\n",
    "       \n",
    "    return str(resposta)"
   ]
  },
  {
   "cell_type": "code",
   "execution_count": 56,
   "id": "3f8066f9",
   "metadata": {},
   "outputs": [
    {
     "data": {
      "text/plain": [
       "'Meu nome é ChatBot!'"
      ]
     },
     "execution_count": 56,
     "metadata": {},
     "output_type": "execute_result"
    }
   ],
   "source": [
    "get_bot_resposta('qual é o seu nome?')"
   ]
  },
  {
   "cell_type": "code",
   "execution_count": 51,
   "id": "b5a7aa28",
   "metadata": {},
   "outputs": [
    {
     "name": "stdout",
     "output_type": "stream",
     "text": [
      "Eu: sair\n"
     ]
    }
   ],
   "source": [
    "while True:\n",
    "    user_input = input('Eu: ')\n",
    "    if user_input.lower() == 'sair':\n",
    "        break\n",
    "        \n",
    "    resposta = get_bot_resposta(user_input)\n",
    "    print(\"ChatBot: \" + resposta)"
   ]
  },
  {
   "cell_type": "code",
   "execution_count": 57,
   "id": "c05218e6",
   "metadata": {},
   "outputs": [],
   "source": [
    "import tkinter as tk"
   ]
  },
  {
   "cell_type": "code",
   "execution_count": 66,
   "id": "1d20f783",
   "metadata": {},
   "outputs": [],
   "source": [
    "def get_resposta_bot_ui():\n",
    "    user_input = user_entry.get()\n",
    "    response = bot.get_response(user_input)\n",
    "    chat_display.config(state=tk.NORMAL)\n",
    "    chat_display.insert(tk.END,'EU: ' + user_input + '\\n')\n",
    "    chat_display.insert(tk.END,'Bot: ' + str(response) + '\\n')\n",
    "    chat_display.config(state=tk.DISABLED)\n",
    "    user_entry.delete(0,tk.END)"
   ]
  },
  {
   "cell_type": "code",
   "execution_count": 68,
   "id": "3cbc483a",
   "metadata": {},
   "outputs": [],
   "source": [
    "root = tk.Tk()\n",
    "root.title('Chatbot T1')\n",
    "\n",
    "chat_display = tk.Text(root, height=20, width=40, state=tk.DISABLED)\n",
    "chat_display.pack()\n",
    "\n",
    "user_entry = tk.Entry(root, width=50)\n",
    "user_entry.pack()\n",
    "\n",
    "send_button = tk.Button(root, text='Perguntar', command=get_resposta_bot_ui)\n",
    "send_button.pack()\n",
    "\n",
    "root.mainloop()"
   ]
  },
  {
   "cell_type": "code",
   "execution_count": 70,
   "id": "a56cbca8",
   "metadata": {
    "scrolled": true
   },
   "outputs": [
    {
     "name": "stdout",
     "output_type": "stream",
     "text": [
      "Training compliment.yml: [#####               ] 27%"
     ]
    },
    {
     "name": "stderr",
     "output_type": "stream",
     "text": [
      "[nltk_data] Downloading package averaged_perceptron_tagger to\n",
      "[nltk_data]     C:\\Users\\ander\\AppData\\Roaming\\nltk_data...\n",
      "[nltk_data]   Package averaged_perceptron_tagger is already up-to-\n",
      "[nltk_data]       date!\n",
      "[nltk_data] Downloading package punkt to\n",
      "[nltk_data]     C:\\Users\\ander\\AppData\\Roaming\\nltk_data...\n",
      "[nltk_data]   Package punkt is already up-to-date!\n",
      "[nltk_data] Downloading package stopwords to\n",
      "[nltk_data]     C:\\Users\\ander\\AppData\\Roaming\\nltk_data...\n",
      "[nltk_data]   Package stopwords is already up-to-date!\n"
     ]
    },
    {
     "name": "stdout",
     "output_type": "stream",
     "text": [
      "Training compliment.yml: [####################] 100%\n",
      "Training conversations.yml: [####################] 100%\n",
      "Training greetings.yml: [####################] 100%\n",
      "Training linguistic_knowledge.yml: [####################] 100%\n",
      "Training proverbs.yml: [####################] 100%\n",
      "Training suggestions.yml: [####################] 100%\n",
      "Training trivia.yml: [####################] 100%\n",
      "Training unilab.yml: [####################] 100%\n",
      "ChatBot: Olá! Como posso ajudar?\n",
      "Você: Olá\n",
      "ChatBot: Oi\n",
      "Você: O que é o ministério da saúde\n",
      "ChatBot: O Ministério da Saúde (MS) corresponde ao setor governamental responsável pela administração e manutenção da Saúde pública no Brasil.\n",
      "Você: sair\n"
     ]
    }
   ],
   "source": [
    "from chatterbot import ChatBot\n",
    "from chatterbot.trainers import ChatterBotCorpusTrainer\n",
    "\n",
    "def create_chatbot(name):\n",
    "    chatbot = ChatBot(name)\n",
    "    trainer = ChatterBotCorpusTrainer(chatbot)\n",
    "    trainer.train('chatterbot.corpus.portuguese')\n",
    "    return chatbot\n",
    "\n",
    "def main():\n",
    "    chatbot = create_chatbot('MeuChatBot')\n",
    "    print(\"ChatBot: Olá! Como posso ajudar?\")\n",
    "    while True:\n",
    "        user_input = input(\"Você: \")\n",
    "        if user_input.lower() in ('sair', 'fim'):\n",
    "            break\n",
    "        response = chatbot.get_response(user_input)\n",
    "        print(\"ChatBot:\", response)\n",
    "\n",
    "if __name__ == \"__main__\":\n",
    "    main()"
   ]
  },
  {
   "cell_type": "code",
   "execution_count": null,
   "id": "a677cb79",
   "metadata": {},
   "outputs": [],
   "source": []
  },
  {
   "cell_type": "code",
   "execution_count": null,
   "id": "ff91013f",
   "metadata": {},
   "outputs": [],
   "source": []
  },
  {
   "cell_type": "code",
   "execution_count": null,
   "id": "100a2575",
   "metadata": {},
   "outputs": [],
   "source": []
  },
  {
   "cell_type": "code",
   "execution_count": null,
   "id": "f6bfbc6f",
   "metadata": {},
   "outputs": [],
   "source": []
  },
  {
   "cell_type": "code",
   "execution_count": null,
   "id": "b3158d46",
   "metadata": {},
   "outputs": [],
   "source": []
  }
 ],
 "metadata": {
  "kernelspec": {
   "display_name": "Python 3 (ipykernel)",
   "language": "python",
   "name": "python3"
  },
  "language_info": {
   "codemirror_mode": {
    "name": "ipython",
    "version": 3
   },
   "file_extension": ".py",
   "mimetype": "text/x-python",
   "name": "python",
   "nbconvert_exporter": "python",
   "pygments_lexer": "ipython3",
   "version": "3.9.13"
  }
 },
 "nbformat": 4,
 "nbformat_minor": 5
}
