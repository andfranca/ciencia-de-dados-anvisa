{
 "cells": [
  {
   "cell_type": "code",
   "execution_count": 14,
   "id": "18ab9333",
   "metadata": {},
   "outputs": [],
   "source": [
    "#!pip install chatterbot==1.0.4\n",
    "#!pip install chatterbot_corpus\n",
    "#!pip install --upgrade PyYaml\n",
    "#!pip install -U PyYaml==3.12\n",
    "#!pip install pyyaml==5.4.1"
   ]
  },
  {
   "cell_type": "code",
   "execution_count": 7,
   "id": "961a16e8",
   "metadata": {},
   "outputs": [
    {
     "name": "stderr",
     "output_type": "stream",
     "text": [
      "[nltk_data] Downloading package rslp to\n",
      "[nltk_data]     C:\\Users\\ander\\AppData\\Roaming\\nltk_data...\n",
      "[nltk_data]   Package rslp is already up-to-date!\n",
      "[nltk_data] Downloading package stopwords to\n",
      "[nltk_data]     C:\\Users\\ander\\AppData\\Roaming\\nltk_data...\n",
      "[nltk_data]   Package stopwords is already up-to-date!\n",
      "[nltk_data] Downloading package punkt to\n",
      "[nltk_data]     C:\\Users\\ander\\AppData\\Roaming\\nltk_data...\n",
      "[nltk_data]   Package punkt is already up-to-date!\n"
     ]
    }
   ],
   "source": [
    "from chatterbot import ChatBot\n",
    "from chatterbot.trainers import ChatterBotCorpusTrainer, ListTrainer\n",
    "\n",
    "import nltk\n",
    "nltk.download('rslp')\n",
    "nltk.download('stopwords')\n",
    "nltk.download('punkt')\n",
    "\n",
    "import time\n",
    "time.clock = time.time"
   ]
  },
  {
   "cell_type": "code",
   "execution_count": 26,
   "id": "d6128c92",
   "metadata": {},
   "outputs": [
    {
     "name": "stdout",
     "output_type": "stream",
     "text": [
      "Training compliment.yml: [#######             ] 34%"
     ]
    },
    {
     "name": "stderr",
     "output_type": "stream",
     "text": [
      "[nltk_data] Downloading package averaged_perceptron_tagger to\n",
      "[nltk_data]     C:\\Users\\ander\\AppData\\Roaming\\nltk_data...\n",
      "[nltk_data]   Package averaged_perceptron_tagger is already up-to-\n",
      "[nltk_data]       date!\n",
      "[nltk_data] Downloading package punkt to\n",
      "[nltk_data]     C:\\Users\\ander\\AppData\\Roaming\\nltk_data...\n",
      "[nltk_data]   Package punkt is already up-to-date!\n",
      "[nltk_data] Downloading package stopwords to\n",
      "[nltk_data]     C:\\Users\\ander\\AppData\\Roaming\\nltk_data...\n",
      "[nltk_data]   Package stopwords is already up-to-date!\n"
     ]
    },
    {
     "name": "stdout",
     "output_type": "stream",
     "text": [
      "Training compliment.yml: [####################] 100%\n",
      "Training conversations.yml: [####################] 100%\n",
      "Training greetings.yml: [####################] 100%\n",
      "Training linguistic_knowledge.yml: [####################] 100%\n",
      "Training proverbs.yml: [####################] 100%\n",
      "Training suggestions.yml: [####################] 100%\n",
      "Training trivia.yml: [####################] 100%\n",
      "Training unilab.yml: [####################] 100%\n",
      "List Trainer: [####################] 100%\n"
     ]
    }
   ],
   "source": [
    "bot = ChatBot('MeuChatBot')\n",
    "\n",
    "corpus_trainer = ChatterBotCorpusTrainer(bot)\n",
    "lista_trainer = ListTrainer(bot)\n",
    "\n",
    "corpus_trainer.train('chatterbot.corpus.portuguese')\n",
    "\n",
    "#adicionar novas perguntas e respostas\n",
    "novos_pares = [\n",
    "    \"Qual o seu nome?\",\"Meu nome é ChatBot\",\n",
    "    \"O que é o ministério da Saúde\",\"O Ministério da Saúde (MS) corresponde ao setor governamental responsável pela administração e manutenção da Saúde pública no Brasil.\"\n",
    "    ]\n",
    "\n",
    "lista_trainer.train(novos_pares)"
   ]
  },
  {
   "cell_type": "code",
   "execution_count": 9,
   "id": "9b14679d",
   "metadata": {},
   "outputs": [],
   "source": [
    "def get_bot_resposta(user_input):\n",
    "    resposta = bot.get_response(user_input)\n",
    "       \n",
    "    return str(resposta)"
   ]
  },
  {
   "cell_type": "code",
   "execution_count": 31,
   "id": "3f8066f9",
   "metadata": {},
   "outputs": [
    {
     "data": {
      "text/plain": [
       "'Meu nome é ChatBot!'"
      ]
     },
     "execution_count": 31,
     "metadata": {},
     "output_type": "execute_result"
    }
   ],
   "source": [
    "get_bot_resposta('qual é o seu nome?')"
   ]
  },
  {
   "cell_type": "code",
   "execution_count": 45,
   "id": "b5a7aa28",
   "metadata": {},
   "outputs": [
    {
     "name": "stdout",
     "output_type": "stream",
     "text": [
      "Eu: O que é anvisa?\n",
      "ChatBot: Agência Nacional de Vigilância Sanitária (Anvisa) é uma agência reguladora, sob a forma de autarquia de regime especial, vinculada ao Ministério da Saúde. A agência exerce o controle sanitário de todos os produtos e serviços (nacionais ou importados) submetidos à vigilância sanitária, tais como medicamentos, alimentos, cosméticos, saneantes, derivados do tabaco, produtos médicos, sangue, hemoderivados e serviços de saúde.\n",
      "Eu: O que é o ministério da saúde?\n",
      "ChatBot: O Ministério da Saúde (MS) corresponde ao setor governamental responsável pela administração e manutenção da Saúde pública no Brasil.\n",
      "Eu: Qual é o seu nome?\n",
      "ChatBot: Meu nome é Bot\n",
      "Eu: sair\n"
     ]
    }
   ],
   "source": [
    "while True:\n",
    "    user_input = input('Eu: ')\n",
    "    if user_input.lower() == 'sair':\n",
    "        break\n",
    "        \n",
    "    resposta = get_bot_resposta(user_input)\n",
    "    print(\"ChatBot: \" + resposta)"
   ]
  }
 ],
 "metadata": {
  "kernelspec": {
   "display_name": "Python 3 (ipykernel)",
   "language": "python",
   "name": "python3"
  },
  "language_info": {
   "codemirror_mode": {
    "name": "ipython",
    "version": 3
   },
   "file_extension": ".py",
   "mimetype": "text/x-python",
   "name": "python",
   "nbconvert_exporter": "python",
   "pygments_lexer": "ipython3",
   "version": "3.9.13"
  }
 },
 "nbformat": 4,
 "nbformat_minor": 5
}
