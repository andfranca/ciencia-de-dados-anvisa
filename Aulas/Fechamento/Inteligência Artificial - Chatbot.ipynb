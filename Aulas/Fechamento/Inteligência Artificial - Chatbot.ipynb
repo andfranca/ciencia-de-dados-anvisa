{
 "cells": [
  {
   "cell_type": "markdown",
   "id": "dc9ce057",
   "metadata": {},
   "source": [
    "## O que é Inteligência Artificial?\n",
    "por [Anderson França](https://andersonfranca.me)\n",
    "\n",
    "De forma bem simples a **Inteligência artificial** (ou simplesmente IA) são programas de computadores que imitam a maneira como os humanos aprendem e resolvem problemas complexos. Computadores com IA são programados para aprender atividades como reconhecimento de fala, reconhecimento visual, identificação de padrões, resolução de problemas e planejamento de tarefas.\n",
    "\n",
    "\n",
    "O autor John McCarthy define a inteligência artificial como: \n",
    "\n",
    "**“A ciência e a engenharia de fazer máquinas inteligentes, especialmente programas de computador inteligentes. Está relacionada à tarefa semelhante de usar computadores para entender a inteligência humana, mas a IA não precisa se limitar a métodos que são biologicamente observáveis.\"**\n",
    "\n",
    "O termo Inteligência Artificial foi criado em 1956, porém, as buscas para entender se as máquinas eram capazes de pensar por conta própria vieram um pouco antes. Em 1943, Warren McCulloch e Walter Pitts criaram um modelo computacional para redes neurais baseadas em matemática, que são estruturas de raciocínio artificiais que imitam nosso sistema nervoso. \n",
    "\n",
    "<img src=\"https://historyofinformation.com/images/Screen_Shot_2020-09-09_at_6.46.46_AM_big.png\" width=\"200\" align=\"center\"/></img>\n",
    "\n",
    "Imagem: [HistoryofInformation.com](https://www.historyofinformation.com/detail.php?entryid=782)"
   ]
  },
  {
   "cell_type": "markdown",
   "id": "5f3096ce",
   "metadata": {},
   "source": [
    "Em 1950, o lendário Alan Turing em um artigo intitulado “Maquinário de Computação e Inteligência”, propôs um teste para determinar se um computador é capaz de se passar por um ser humano em uma conversa por escrito. O teste consiste basicamente na conversa natural entre um humano contra um humano e uma máquina onde todos estão separados um do outro, e se o primeiro humano não conseguir distinguir quem é o computador e quem é o ser humano, a máquina passou no teste. Esse teste ficou conhecido como “Teste de Turing”, originalmente conhecido como “Jogo da Imitação”, que é o mesmo título do filme lançado em 2014 e que retratou a vida do pesquisador.\n",
    "\n",
    "<img src=\"https://historyofinformation.com/images/_Turing_Computing_machinery_&_intelligence_cover_and_box_big.jpg\" width=\"300\" align=\"center\"/></img>\n",
    "\n",
    "Imagem: [HistoryofInformation.com](https://www.historyofinformation.com/image.php?id=1024)"
   ]
  },
  {
   "cell_type": "markdown",
   "id": "dbb9f2c5",
   "metadata": {},
   "source": [
    "Nas décadas seguintes, o campo da IA passou por diversas transformações, pois alguns problemas de pesquisas se mostraram bem difíceis e outros inviáveis por conta das tecnologias disponíveis na época. No final da década de 90, popularização da internet e surgimento das grandes empresas de tecnologia, as pesquisas em IA começaram a acelerar e se concentraram principalmente em aplicações no mundo real, como reconhecimento de imagem, diagnósticos médicos e reconhecimento de padrões. O grande marco foi a vitória em 1997 do computador IBM Deep Blue que venceu o campeão mundial Garry Kasparov. \n",
    "\n",
    "Desde então, a IA continuou avançando e as aplicações se tornaram praticamente ilimitadas e pode ser utilizada em diversos setores e indústrias, desde diagnósticos e acompanhamento de doenças graves a veículos que pousam de forma autônoma em outros planetas.\n",
    "\n",
    "<img src=\"https://images.newscientist.com/wp-content/uploads/2020/07/29105311/29-july_mars_perseverance.jpg?width=900\" width=\"300\" align=\"center\"/></img>\n",
    "\n",
    "Imagem: [NewScientists](https://www.newscientist.com/article/2250181-nasa-has-launched-its-perseverance-mars-rover-and-ingenuity-helicopter/)"
   ]
  },
  {
   "cell_type": "markdown",
   "id": "80ac74c7",
   "metadata": {},
   "source": [
    "### Tipos de Inteligência Artificial\n",
    "\n",
    "A inteligência artificial utiliza algoritmos e métodos sofisticados para tomar decisões complexas. O Deep Learning e o Machine Learning são subcampos da IA utilizados para construir sistemas inteligentes. \n",
    "\n",
    "A inteligência artificial pode ser dividida de diversas formas. Duas das principais categorizações são: **Baseado em Capacidade** e **Baseada em Funcionalidade**. \n",
    "\n",
    "#### Critérios de Capacidade\n",
    "A IA possui três tipos de critérios de capacidade: \n",
    "- Inteligência Artificial Narrow (IA Narrow) \n",
    "- Inteligência Geral Artificial (IA Geral) \n",
    "- Super Inteligência Artificial (Super IA). \n",
    "\n",
    "#### Critérios de Funcionalidade\n",
    "Existem quatro tipos de IA com base na funcionalidade: \n",
    "- Máquinas Reativas \n",
    "- Memória Limitada \n",
    "- Teoria da Mente \n",
    "- Autoconsciência.\n",
    "\t\n",
    "    \n",
    "<img src=\"https://drive.google.com/uc?id=1E71DGR706Sht7YGXw_deY6v1PytB5Xvv\" width=\"400\" align=\"center\"/></img>\n"
   ]
  },
  {
   "cell_type": "markdown",
   "id": "de3eec47",
   "metadata": {},
   "source": [
    "## IA Baseada em Capacidade\n",
    "\n",
    "\n",
    "#### Inteligência Artificial Narrow\n",
    "\n",
    "Também conhecida como IA Fraca, a IA Narrow incorpora um sistema projetado para realizar um conjunto de tarefas com um objetivo específico. Ela pode até realizar cálculos complexos de forma bem rápida, porém, sempre limitada a um objetivo específico. Por exemplo, jogos de videogames, como por exemplo o deep blue programado para jogar xadrez ou mesmo assistentes pessoais como Alexa e Siri, onde você faz uma pergunta e ela responde de acordo com um conjunto de tarefas pré-definidas. Outros exemplos de sistemas construídos com um objetivo específico são: Reconhecimento facial, tradutor, Filtro de Spam, Processamento de linguagem natural entre outros.  \n",
    "\n",
    "<img src=\"https://drive.google.com/uc?id=1UG6JA1TWrPHURE5l9NZH1NWEw5duH3Tl\" width=\"400\" align=\"center\"/></img>\n",
    "Imagem: [Siri](https://tenor.com/pt-BR/view/siri-apple-something-new-gif-17137764)"
   ]
  },
  {
   "cell_type": "markdown",
   "id": "285f639c",
   "metadata": {},
   "source": [
    "#### Inteligência Artificial Geral\n",
    "Também conhecida como Sistemas de inteligência artificial fortes, são sistemas que têm a capacidade de aprender e executar tarefas intelectuais semelhantes aos humanos. Eles são programados para lidar com situações diversas em que podem ser solicitados a resolver problemas sem a intervenção de uma pessoa. No mundo real, podemos ver essa evolução nos veículos autônomos que já conseguem tomar uma série de decisões, porém, ainda se limita a uma determinada função, mas com o aumento da capacidade computacional e investimento nessa área, muitos estudiosos especulam que já teremos esse tipo de tecnologia nas próximas décadas, já os mais conservadores estimam para o próximo século. \n",
    "\n",
    "<img src=\"https://drive.google.com/uc?id=1mKKJPB_zIUQ9q5sEdltBAtJJ4-qDV-sA\" width=\"400\" align=\"center\"/></img>\n",
    "Imagem: [Ironman - Jarvis - Disney Plus](https://www.disneyplus.com/pt-br/movies/iron-man/6aM2a8mZATiu)"
   ]
  },
  {
   "cell_type": "markdown",
   "id": "8bcda38c",
   "metadata": {},
   "source": [
    "#### Super Inteligência Artificial\n",
    "Uma máquina construída com este recurso pode funcionar além da inteligência humana e pode resolver qualquer tarefa complexa. Além disso, incluem algumas características inteligentes como capacidade de raciocínio, emoções, necessidades, crenças e desejos próprios. Esse tipo de super inteligência é hipotética e geralmente retratada em obras de ficção pela capacidade de tomar decisões por conta própria. \n",
    "\n",
    "\n",
    "<img src=\"https://drive.google.com/uc?id=1foZzq5Tr3zU5wpM7vG416J_hms0HOKrw\" width=\"400\" align=\"center\"/></img>\n",
    "Imagem: [The Intercept](https://theintercept.com/2018/04/13/facebook-advertising-data-artificial-intelligence-ai/)"
   ]
  },
  {
   "cell_type": "markdown",
   "id": "2ec23c22",
   "metadata": {},
   "source": [
    "## IA Baseada em Funcionalidade\n",
    "Quando falamos de IA baseado em suas funcionalidades, temos as\n",
    "\n",
    "#### Máquinas Reativas\n",
    "É o precursor da inteligência artificial, então seus recursos são mais limitados. Elas não armazenam muitos dados e reagem a apenas alguns estímulos de acordo com a maneira como foram configuradas. Os modelos de aprendizado de máquina estáticos são considerados máquinas reativas, pois eles não armazenam os dados de entrada e sua decisão não muda conforme recebe mais dados. É considerado um modelo mais simples e é comum encontrarmos esses modelos na internet onde podemos baixar, modificar e utilizar para propósitos gerais.\n",
    "\n",
    "\n",
    "#### Memória Limitada\n",
    "É um avanço em relação às máquinas reativas, já que neste caso armazenam mais informações e usam elas para tomar decisões. Essa classificação refere-se à capacidade de um IA de armazenar dados ou previsões anteriores, e utilizar esses dados para fazer previsões melhores. Com a memória limitada, a arquitetura de aprendizado de máquina se torna um pouco mais complexa. Cada modelo de aprendizado de máquina requer a criação de memória limitada, mas o modelo pode ser implantado como um tipo de máquina reativa. Por exemplo, podemos utilizar aprendizado por reforço para ensinar as máquinas a jogarem vídeo game, o teclado do seu celular pode usar memória de curto e logo prazo para prever qual a próxima palavra que você vai digitar de acordo com seu tipo de escrita e muitas outras tarefas que a medida que vamos fornecendo dados, a máquina vai adaptando as respostas e oferecendo melhores decisões.  \n",
    "\n",
    "\n",
    "#### Teoria da Mente \n",
    "Além de enxergarem o mundo, essas inteligências também são capazes de compreender os estímulos que recebem para assim processar as informações. Ainda não alcançamos esse tipo de inteligência artificial, e as pesquisas ainda estão em estágio inicial. Esse tipo  IA começa a interagir com os pensamentos e emoções humanas. \n",
    "\n",
    "#### Máquinas Autoconsciência \n",
    "Esse tipo de inteligência artificial têm consciência do mundo e também de si própria, o que facilita a compreensão dos estímulos externos. É uma inteligência que excede a capacidade humana e é algo que está bem distante da realidade e podemos ver apenas em filmes futuristas, mas geralmente nesses filmes as máquinas acabam destruindo ou dominando os seres humanos, por isso gera muito medo nas pessoas. "
   ]
  },
  {
   "cell_type": "markdown",
   "id": "853220b5",
   "metadata": {},
   "source": [
    "Independente do tipo de tecnologia, podemos afirmar que a Inteligência Artificial é uma ferramenta poderosa e que veio para ficar, principalmente porque facilita e muito a vida das pessoas, pois nos ajuda a eliminar tarefas repetitivas e fornece apoio em coisas do dia-a-dia. Convenhamos, quem já se acostumou a pedir para seu assistente virtual escolher uma playlist do seu agrado, fazer a lista de compras, te lembrar de coisas importantes ou mesmo controlar os dispositivos de sua casa, dificilmente vai querer voltar para o mundo analógico. "
   ]
  },
  {
   "cell_type": "markdown",
   "id": "908d7062",
   "metadata": {},
   "source": [
    "## Chatbots"
   ]
  },
  {
   "cell_type": "markdown",
   "id": "4c5e58c2",
   "metadata": {},
   "source": [
    "Um dos grandes marcos da tecnologia atual, é substituir a interação humana por computadores. Muitas vezes para reduzir custos, mas além disso, ganhar escala, automatizar processo e facilitar o acesso à informação. Uma das ferramentas mais utilzadas para essa finalidade são os chatbots.\n",
    "\n",
    "<img src=\"https://drive.google.com/uc?id=1SsIxrh9hvy7Lzp6quk-lwwXf4YQbmhY6\" width=\"400\" align=\"center\"/></img>\n",
    "\n",
    "\n",
    "Os Chatbots são programas de computador que simulam uma conversa com humanos. Essa ferramenta é muito utilizada em aplicativos de atendimento ao cliente, onde podem responder a perguntas e resolver problemas sem a necessidade de uma intervenção humana. Os Chatbots também podem ser usados para fornecer informações, entretenimento ou educação.\n",
    "\n",
    "\n",
    "Existem basicamente dois tipos principais de chatbots:\n",
    "\n",
    "**Baseados em regras:** Que operam com base em um conjunto previamente estabelecido de regras. Eles só podem responder a perguntas ou comandos que foram mapeados e programados em sua lógica. São menos flexíveis e geralmente menos inteligentes do que os chatbots baseados em IA e podem ser utilizados para perguntas frequentes, serviços específicos ou consultas simples. \n",
    "\n",
    "**Baseados em IA:** São chamados de chatbots inteligentes ou assistentes virtuais, esses chatbots utilizam algoritmos avançados de processamento de linguagem natural e aprendizado de máquina para entender e interpretar a linguagem humana. Geralmente, eles aprendem com as interações com os usuários e melhoram suas respostas ao longo do tempo. Esses chatbots têm maior capacidade de compreensão e podem fornecer respostas mais contextuais e personalizadas. Podemos citar como exemplo a Alexa, Siri, Google Assistente ou mesmo o ChatGPT."
   ]
  },
  {
   "cell_type": "markdown",
   "id": "50838cd4",
   "metadata": {},
   "source": [
    "### Criar um Chatbot Simples\n",
    "\n",
    "Vamos criar um chatbot simples utilizando o Chatterbot, que é uma biblioteca _open source_ em Python para criação de chatbots ou agentes de conversação.\n",
    "\n",
    "Os principais recursos dessa biblioteca são:\n",
    "\n",
    "- **Aprendizado contínuo:** O chatbot pode melhorar suas respostas ao longo do tempo à medida que interage com os usuários e recebe feedbacks.\n",
    "\n",
    "- **Treinamento em vários idiomas:** Ele suporta treinamento em diversos idiomas e pode ser personalizado para funcionar em diferentes ambientes linguísticos.\n",
    "\n",
    "- **Facilidade de uso:** O ChatterBot é fácil de usar e possui uma interface simples para implementação.\n",
    "\n",
    "- **Customização:** É possível personalizar as respostas do chatbot, bem como adicionar novos conjuntos de treinamento para aprimorar o desempenho em tarefas específicas.\n",
    "\n",
    "- **Integração com outras bibliotecas:** Ele pode ser combinado com outras bibliotecas de PLN, como o NLTK ou o spaCy, para melhorar a capacidade de compreensão da linguagem."
   ]
  },
  {
   "cell_type": "code",
   "execution_count": null,
   "id": "d7e2c0d2",
   "metadata": {},
   "outputs": [],
   "source": [
    "#Instalar Bibliotecas necessárias\n",
    "#pip install chatterbot==1.0.4\n",
    "#pip install chatterbot_corpus"
   ]
  },
  {
   "cell_type": "code",
   "execution_count": 6,
   "id": "b472e354",
   "metadata": {},
   "outputs": [
    {
     "name": "stderr",
     "output_type": "stream",
     "text": [
      "[nltk_data] Downloading package punkt to\n",
      "[nltk_data]     C:\\Users\\ander\\AppData\\Roaming\\nltk_data...\n",
      "[nltk_data]   Package punkt is already up-to-date!\n",
      "[nltk_data] Downloading package stopwords to\n",
      "[nltk_data]     C:\\Users\\ander\\AppData\\Roaming\\nltk_data...\n",
      "[nltk_data]   Package stopwords is already up-to-date!\n",
      "[nltk_data] Downloading package rslp to\n",
      "[nltk_data]     C:\\Users\\ander\\AppData\\Roaming\\nltk_data...\n",
      "[nltk_data]   Package rslp is already up-to-date!\n"
     ]
    },
    {
     "data": {
      "text/plain": [
       "True"
      ]
     },
     "execution_count": 6,
     "metadata": {},
     "output_type": "execute_result"
    }
   ],
   "source": [
    "# Carregar as bibliotecas necessárias\n",
    "from chatterbot import ChatBot\n",
    "from chatterbot.trainers import ChatterBotCorpusTrainer\n",
    "from chatterbot.trainers import ListTrainer\n",
    "import time\n",
    "time.clock = time.time\n",
    "\n",
    "# Fazer o download do NLTK em português\n",
    "import nltk\n",
    "nltk.download('punkt')\n",
    "nltk.download('stopwords')\n",
    "nltk.download('rslp')"
   ]
  },
  {
   "cell_type": "code",
   "execution_count": 9,
   "id": "bf9014f3",
   "metadata": {},
   "outputs": [
    {
     "name": "stdout",
     "output_type": "stream",
     "text": [
      "Training compliment.yml: [#############       ] 66%"
     ]
    },
    {
     "name": "stderr",
     "output_type": "stream",
     "text": [
      "[nltk_data] Downloading package averaged_perceptron_tagger to\n",
      "[nltk_data]     C:\\Users\\ander\\AppData\\Roaming\\nltk_data...\n",
      "[nltk_data]   Package averaged_perceptron_tagger is already up-to-\n",
      "[nltk_data]       date!\n",
      "[nltk_data] Downloading package punkt to\n",
      "[nltk_data]     C:\\Users\\ander\\AppData\\Roaming\\nltk_data...\n",
      "[nltk_data]   Package punkt is already up-to-date!\n",
      "[nltk_data] Downloading package stopwords to\n",
      "[nltk_data]     C:\\Users\\ander\\AppData\\Roaming\\nltk_data...\n",
      "[nltk_data]   Package stopwords is already up-to-date!\n"
     ]
    },
    {
     "name": "stdout",
     "output_type": "stream",
     "text": [
      "Training compliment.yml: [####################] 100%\n",
      "Training conversations.yml: [####################] 100%\n",
      "Training games.yml: [####################] 100%\n",
      "Training greetings.yml: [####################] 100%\n",
      "Training linguistic_knowledge.yml: [####################] 100%\n",
      "Training money.yml: [####################] 100%\n",
      "Training proverbs.yml: [####################] 100%\n",
      "Training suggestions.yml: [####################] 100%\n",
      "Training trivia.yml: [####################] 100%\n",
      "Training unilab.yml: [####################] 100%\n",
      "List Trainer: [####################] 100%\n"
     ]
    }
   ],
   "source": [
    "bot = ChatBot('MeuChatBot')\n",
    "\n",
    "corpus_trainer = ChatterBotCorpusTrainer(bot)\n",
    "list_trainer = ListTrainer(bot)\n",
    "\n",
    "# Treine o bot com o corpus pré-definido em inglês\n",
    "corpus_trainer.train('Dados/Portugues/')\n",
    "\n",
    "# Adicione pares de perguntas e respostas personalizadas\n",
    "novos_pares = [\n",
    "    \"Qual é o seu nome?\", \"Meu nome é ChatBot!\",\n",
    "    \"O que é ANVISA?\", \"Agência Nacional de Vigilância Sanitária (Anvisa) é uma agência reguladora, sob a forma de autarquia de regime especial, vinculada ao Ministério da Saúde. A agência exerce o controle sanitário de todos os produtos e serviços (nacionais ou importados) submetidos à vigilância sanitária, tais como medicamentos, alimentos, cosméticos, saneantes, derivados do tabaco, produtos médicos, sangue, hemoderivados e serviços de saúde.\"   \n",
    "]\n",
    "\n",
    "list_trainer.train(novos_pares)"
   ]
  },
  {
   "cell_type": "code",
   "execution_count": 10,
   "id": "54c4221b",
   "metadata": {},
   "outputs": [
    {
     "name": "stdout",
     "output_type": "stream",
     "text": [
      "Você: Olá\n",
      "ChatBot: Oi\n",
      "Você: olá\n",
      "ChatBot: Oi\n",
      "Você: Qual seu nome?\n",
      "ChatBot: Então... sobre isso... é meio difícil\n",
      "Você: Qual é o seu onme?\n",
      "ChatBot: I do not have any emotions.\n",
      "Você: Qual é o seu nome?\n",
      "ChatBot: Meu nome é ChatBot!\n",
      "Você: sair\n"
     ]
    }
   ],
   "source": [
    "def get_bot_resposta(user_input):\n",
    "    resposta = bot.get_response(user_input)\n",
    "    return str(resposta)\n",
    "\n",
    "while True:\n",
    "    user_input = input(\"Você: \")\n",
    "    if user_input.lower() == 'sair':\n",
    "        break\n",
    "    resposta = get_bot_resposta(user_input)\n",
    "    print(\"ChatBot: \" + resposta)"
   ]
  },
  {
   "cell_type": "markdown",
   "id": "0f816b05",
   "metadata": {},
   "source": [
    "### Criar uma interface simples\n",
    "\n",
    "Parar criar uma interface simples, vamos utilizar o `tkinter` que é uma biblioteca padrão do Python que permite criar interfaces gráficas (GUI - Graphical User Interface) de forma simples e rápida. Ela fornece uma série de widgets (elementos gráficos) como botões, campos de entrada, áreas de texto, entre outros, para facilitar a criação de janelas e interações com o usuário."
   ]
  },
  {
   "cell_type": "code",
   "execution_count": 11,
   "id": "5e4f4af7",
   "metadata": {},
   "outputs": [],
   "source": [
    "import tkinter as tk"
   ]
  },
  {
   "cell_type": "code",
   "execution_count": 12,
   "id": "c55d8919",
   "metadata": {},
   "outputs": [],
   "source": [
    "# Obter resposta do chatbot\n",
    "def get_response():\n",
    "    user_input = user_entry.get()\n",
    "    response = bot.get_response(user_input)\n",
    "    chat_display.config(state=tk.NORMAL)\n",
    "    chat_display.insert(tk.END, \"Você: \" + user_input + \"\\n\")\n",
    "    chat_display.insert(tk.END, \"ChatBot: \" + str(response) + \"\\n\")\n",
    "    chat_display.config(state=tk.DISABLED)\n",
    "    user_entry.delete(0, tk.END)"
   ]
  },
  {
   "cell_type": "code",
   "execution_count": 13,
   "id": "f57bbac4",
   "metadata": {},
   "outputs": [],
   "source": [
    "# Criar a janela principal\n",
    "root = tk.Tk()\n",
    "root.title('ChatBot em Python')\n",
    "\n",
    "# Área de exibição do chat\n",
    "chat_display = tk.Text(root, height=20, width=50, state=tk.DISABLED)\n",
    "chat_display.pack()\n",
    "\n",
    "# Campo de entrada de texto \n",
    "user_entry = tk.Entry(root, width=50)\n",
    "user_entry.pack()\n",
    "\n",
    "# Botão para enviar mensagem\n",
    "send_button = tk.Button(root, text='Enviar', command=get_response)\n",
    "send_button.pack()\n",
    "\n",
    "# Iniciar a interface gráfica\n",
    "root.mainloop()"
   ]
  },
  {
   "cell_type": "code",
   "execution_count": 16,
   "id": "e0e7bef5",
   "metadata": {},
   "outputs": [],
   "source": [
    "# Função para obter resposta do chatbot\n",
    "def get_response(user_input):\n",
    "    response = bot.get_response(user_input)\n",
    "    return str(response)"
   ]
  },
  {
   "cell_type": "markdown",
   "id": "d2b55903",
   "metadata": {},
   "source": [
    "Além do `tkinter` existem várias outras bibliotecas e ferramentas que podemos utilizar para criar interfaces para o ChatterBot e outros chatbots. Algumas opções populares são:\n",
    "\n",
    "- **Flask:** Framework web leve para Python onde é possível criar um aplicativo web e integrar o ChatterBot para fornecer uma interface de chatbot interativa na web.\n",
    "\n",
    "- **Django:** Framework web em Python que oferece mais recursos e opções para criar aplicativos web complexos. Com o Django, é possível construir uma aplicação web completa com uma interface para o chatbot.\n",
    "\n",
    "- **Telegram Bot API:** O Telegram oferece uma API para criação de bots na plataforma. Você pode criar um bot do Telegram que utilize o ChatterBot para processar as mensagens dos usuários e fornecer respostas em um chat privado ou em grupos do Telegram.\n",
    "\n",
    "- **Facebook Messenger Platform:** O Facebook Messenger também possui uma plataforma para criação de bots. Você pode integrar o ChatterBot com a plataforma do Messenger para criar um chatbot que responda aos usuários através do Messenger."
   ]
  },
  {
   "cell_type": "markdown",
   "id": "17c17237",
   "metadata": {},
   "source": [
    "## LLM\n",
    "Um Large Language Model (LLM) é um tipo de modelo de linguagem de grande escala e capacidade avançada de processamento de linguagem natural. Esses modelos são construídos usando técnicas de aprendizado de máquina, especificamente Aprendizado Profundo (Deep Learning), onde são treinados com grandes quantidades de texto para aprender padrões e estruturas da linguagem humana.\n",
    "\n",
    "Os LLMs são projetados para realizar tarefas relacionadas ao processamento de linguagem natural, como:\n",
    "\n",
    "- **Geração de Texto:** Possuem a capacidade de gerar texto coerente e semelhante ao humano em resposta a um estímulo ou contexto fornecido.\n",
    "\n",
    "- **Tradução Automática:** Tradução texto de um idioma para outro.\n",
    "\n",
    "- **Sumarização de Texto:** Resumir documentos ou textos longos em versões mais curtas e concisas.\n",
    "\n",
    "- **Perguntas e Respostas:** Responder perguntas em linguagem natural com base em um contexto fornecido.\n",
    "\n",
    "- **Classificação de Texto:** Classificar textos em categorias ou tópicos específicos.\n",
    "\n",
    "### GPT\n",
    "O LLM mais conhecido é o GPT (Generative Pre-trained Transformer), desenvolvido pela OpenAI. Ele é baseado no modelo GPT-3 (Generative Pre-trained Transformer 3), que é um dos maiores e mais poderosos modelos de linguagem já criados. O GPT-3 tem **175 bilhões de parâmetros** e é capaz de realizar diversas tarefas relacionadas ao processamento de linguagem natural.\n",
    "\n",
    "O **ChatGPT** foi projetado especificamente para facilitar a interação com o modelo GPT-3, permitindo que os desenvolvedores criem aplicativos e serviços que se comuniquem com o GPT-3 de maneira mais simples e direta. Com o ChatGPT, é possível enviar texto de entrada para o modelo GPT-3 e receber respostas geradas pelo modelo em tempo real.\n",
    "\n",
    "Desde o seu lançamento, o GPT-3 e suas variantes, como o ChatGPT, têm sido amplamente utilizados em várias aplicações, incluindo assistentes virtuais, chatbots, correção gramatical, tradução automática, geração de código, e muitas outras tarefas relacionadas à linguagem natural. Esses modelos têm mostrado resultados impressionantes em muitos cenários e têm sido uma contribuição significativa para o campo de inteligência artificial e processamento de linguagem natural.\n",
    "\n",
    "#### Mitos e verdades sobre o ChatGPT\n",
    "\n",
    "**Mito: O ChatGPT é uma IA consciente e tem compreensão real do que está dizendo.**\n",
    "\n",
    "Verdade: O ChatGPT não possui consciência nem compreensão real. Ele é um modelo de linguagem pré-treinado que opera com base em padrões estatísticos nos dados de treinamento, mas não possui uma compreensão verdadeira ou experiência subjetiva do mundo.\n",
    "\n",
    "**Mito: O ChatGPT pode responder a qualquer pergunta de forma precisa e completa.**\n",
    "\n",
    "Verdade: Embora o ChatGPT tenha uma capacidade notável de responder a várias perguntas, ele pode ocasionalmente fornecer respostas incorretas, incompletas ou até mesmo não relacionadas. Sua resposta é baseada nos exemplos vistos durante o treinamento e pode não ter a mesma precisão que um especialista humano em determinados domínios.\n",
    "\n",
    "**Mito: O ChatGPT não pode ser enganado ou manipulado.**\n",
    "\n",
    "Verdade: O ChatGPT é suscetível a ser enganado ou manipulado. Ele pode gerar respostas que reproduzem preconceitos ou desinformações presentes nos dados de treinamento. Além disso, pode responder de forma tendenciosa ou imprecisa dependendo de como é direcionado pelo usuário.\n",
    "\n",
    "**Mito: O ChatGPT é seguro para uso em qualquer contexto.**\n",
    "\n",
    "Verdade: O ChatGPT pode gerar conteúdo inadequado, ofensivo ou prejudicial, e é importante usá-lo com responsabilidade. A OpenAI fornece diretrizes de uso responsável e incentiva os desenvolvedores a filtrarem e monitorarem as saídas do modelo para evitar respostas problemáticas.\n",
    "\n",
    "**Mito: O ChatGPT não tem proteções contra geração de conteúdo prejudicial.**\n",
    "\n",
    "Verdade: A OpenAI implementou medidas de segurança para reduzir a geração de conteúdo perigoso e inseguro, mas reconhece que pode haver falhas e desafios contínuos nesse aspecto. Ela está comprometida em melhorar constantemente as proteções contra respostas prejudiciais.\n",
    "\n",
    "**Mito: O ChatGPT é a última versão de modelo de linguagem lançada pela OpenAI.**\n",
    "\n",
    "Verdade: O ChatGPT é baseado no modelo GPT-3, mas a OpenAI continua pesquisando e desenvolvendo novas versões e melhorias em modelos de linguagem. Existem planos para lançar versões mais avançadas e aprimoradas no futuro.\n",
    "\n",
    "É importante entender que o ChatGPT é uma ferramenta poderosa, mas também tem limitações e responsabilidades associadas ao seu uso. Os usuários devem estar cientes dessas questões e seguir as diretrizes da OpenAI para um uso ético e seguro do ChatGPT e de modelos de linguagem similares.\n",
    "\n",
    "\n",
    "### Outras Ferramentas\n",
    "\n",
    "Apesar do ChatGPT ser a ferramenta mais popular, podemos citar diversas outras I.A., cada uma em sua especialidade, como por exemplo:\n",
    "\n",
    "    Uma alternativa ao ChatGPT é o Google Bard\n",
    "    Uma ferramenta Open source: HuggingChat\n",
    "    Para construir um chatbot próprio: Zapier AI Chatbot\n",
    "    Para pesquisar na internet: Microsoft Bing AI, Perplexity, KoalaChat, YouChat\n",
    "    Para escrever conteúdo: Jasper Chat, Chat by Copy.ai, ChatSonic, ZenoChat\n",
    "    Para autocompletar código: GitHub Copilot, Amazon CodeWhisperer\n",
    "    Entre outras. \n",
    "\n",
    "Os LLMs têm impulsionado muitos avanços no campo de processamento de linguagem natural e são frequentemente usados em várias aplicações, como assistentes virtuais, chatbots, correção gramatical, análise de sentimento, entre outros. No entanto, é importante notar que, devido ao seu tamanho e complexidade, esses modelos podem exigir recursos computacionais significativos para treinamento e inferência."
   ]
  },
  {
   "cell_type": "markdown",
   "id": "1dd8e527",
   "metadata": {},
   "source": [
    "#### Utilizando a api do ChatGPT"
   ]
  },
  {
   "cell_type": "code",
   "execution_count": 49,
   "id": "4f7c93af",
   "metadata": {},
   "outputs": [
    {
     "name": "stdout",
     "output_type": "stream",
     "text": [
      "Chatbot: Olá! Estou aqui para responder às suas perguntas. Digite 'sair' para encerrar o chat.\n",
      "Você: O que é ANVISA?\n",
      "Chatbot: A ANVISA é a Agência Nacional de Vigilância Sanitária, uma agência federal vinculada ao Ministério da Saúde. É responsável por controlar, prevenir e fiscalizar a produção e a comercialização de produtos de saúde e medicamentos, bem como vários outros serviços relacionados à saúde.\n",
      "Você: sair\n",
      "Chatbot: Até logo!\n"
     ]
    }
   ],
   "source": [
    "import openai\n",
    "\n",
    "# Definir a chave de API\n",
    "api_key = \"CHAVE_API\"\n",
    "\n",
    "# Configurar a API do OpenAI\n",
    "openai.api_key = api_key\n",
    "\n",
    "def chat_with_bot(prompt):\n",
    "    try:\n",
    "        response = openai.Completion.create(\n",
    "            engine=\"text-davinci-003\",  # Você também pode tentar \"text-davinci-002\" para versões mais recentes do GPT-3\n",
    "            prompt=prompt,\n",
    "            max_tokens=50  # Define o limite de tokens para a resposta do chatbot\n",
    "        )\n",
    "\n",
    "        return response.choices[0].text.strip()\n",
    "    except Exception as e:\n",
    "        return str(e)\n",
    "\n",
    "# Função de diálogo com o chatbot\n",
    "def chat_loop():\n",
    "    print(\"Chatbot: Olá! Estou aqui para responder às suas perguntas. Digite 'sair' para encerrar.\")\n",
    "    \n",
    "    while True:\n",
    "        user_input = input(\"Você: \")\n",
    "        \n",
    "        if user_input.lower() == 'sair':\n",
    "            print(\"Chatbot: Até logo!\")\n",
    "            break\n",
    "        \n",
    "        # Concatena a entrada do usuário com o texto que sinaliza o início de uma conversa para o modelo\n",
    "        prompt = f\"Você disse: {user_input}\\nChatbot disse:\"\n",
    "        response = chat_with_bot(prompt)\n",
    "        print(f\"Chatbot: {response}\")\n",
    "\n",
    "if __name__ == \"__main__\":\n",
    "    chat_loop()"
   ]
  }
 ],
 "metadata": {
  "kernelspec": {
   "display_name": "Python 3 (ipykernel)",
   "language": "python",
   "name": "python3"
  },
  "language_info": {
   "codemirror_mode": {
    "name": "ipython",
    "version": 3
   },
   "file_extension": ".py",
   "mimetype": "text/x-python",
   "name": "python",
   "nbconvert_exporter": "python",
   "pygments_lexer": "ipython3",
   "version": "3.9.13"
  }
 },
 "nbformat": 4,
 "nbformat_minor": 5
}
