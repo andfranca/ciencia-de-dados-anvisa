{
 "cells": [
  {
   "cell_type": "code",
   "execution_count": null,
   "id": "c25715be",
   "metadata": {},
   "outputs": [],
   "source": [
    "!pip install jupyterthemes"
   ]
  },
  {
   "cell_type": "code",
   "execution_count": null,
   "id": "67aaf595",
   "metadata": {},
   "outputs": [],
   "source": [
    "jt -l"
   ]
  },
  {
   "cell_type": "code",
   "execution_count": null,
   "id": "df3a49e3",
   "metadata": {},
   "outputs": [],
   "source": [
    "jt -t \"nome-do-tema\""
   ]
  }
 ],
 "metadata": {
  "kernelspec": {
   "display_name": "Python 3 (ipykernel)",
   "language": "python",
   "name": "python3"
  },
  "language_info": {
   "codemirror_mode": {
    "name": "ipython",
    "version": 3
   },
   "file_extension": ".py",
   "mimetype": "text/x-python",
   "name": "python",
   "nbconvert_exporter": "python",
   "pygments_lexer": "ipython3",
   "version": "3.9.13"
  }
 },
 "nbformat": 4,
 "nbformat_minor": 5
}
