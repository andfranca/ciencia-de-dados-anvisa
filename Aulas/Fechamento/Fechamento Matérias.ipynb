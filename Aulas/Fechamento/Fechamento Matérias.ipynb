{
 "cells": [
  {
   "cell_type": "markdown",
   "id": "e7533d86",
   "metadata": {},
   "source": [
    "#### Estatística Aplicada \n",
    "- Análise Exploratória de Dados\n",
    "- Inferência Estatística\n",
    "- Teste de Hipótese\n",
    "- Regressão Linear - Simples e Múltipla\n",
    "- Regressão Logística\n",
    "\n",
    "#### Machine Learning\n",
    "- Introdudução e particionamento de dados\n",
    "- Classificação (Logística, KNN e Árvore)\n",
    "- Métricas de Classificação (Acurácia, Precision, Recall, F1 Score e outras)\n",
    "- Regressão (Linear, Árvore e KNN)\n",
    "- Métricas de Regressão (MAE, MSE, RMSE, MedAE, e outras)\n",
    "- Pré-Processamento de Dados (Missing Imputation, Dummy e One-hot Encoding)\n",
    "- Grid Search e Cross Validation (K-Fold, LOOCV, Boostrap e Hold Out)\n",
    "- Bagging e Boosting (Random Forest, ExtraTrees e Ada Boosting)\n",
    "- Classificação de Texto (Aplicações, Tipos de Sistemas e Processamento de Texto)\n",
    "- Classificação de Texto (Bag of Words, TF-IDF, Construção de Algoritmo)\n",
    "- Detecção de Anomalias\n",
    "- Naive Bayes\n",
    "- Modelos Não-Supervisionados (k-means)\n",
    "- Pipeline de Modelos\n",
    "\n",
    "#### Deep Learning\n",
    "- Redes Neurais e Apredizado Profundo\n",
    "- Treinamento de Modelos (Otimização de Modelos)\n",
    "- Redes Neurais e Treinamento dos Modelos (Tunning de Hiperparâmetros e Normalização)\n",
    "- Redes Neurais Convolucionais\n",
    "- Visão Computacional (Detecção de Objetos, OCR e leitura de documentos)\n",
    "- Forecasting e séries temporais\n",
    "- Chatbot e LLM\n",
    "- Automação de Tarefas\n",
    "- Webscraping e RPA"
   ]
  },
  {
   "cell_type": "markdown",
   "id": "30458a50",
   "metadata": {},
   "source": [
    "#### Dicas e Referências Machine Learning\n",
    "\n",
    "[Dicas Machine Learning - stanford.edu](https://stanford.edu/~shervine/l/pt/teaching/cs-229/dicas-aprendizado-supervisionado)\n",
    "\n",
    "[Data Science Resources](https://github.com/jonathan-bower/DataScienceResources)\n",
    "\n",
    "[Awesome Machine Learning](https://github.com/amfranca/awesome-machine-learning)"
   ]
  },
  {
   "cell_type": "markdown",
   "id": "fea93828",
   "metadata": {},
   "source": [
    "#### Machine Learning - Map\n",
    "\n",
    "<img src=\"https://scikit-learn.org/stable/_static/ml_map.png\" width=\"800\" align=\"center\"/></img>\n",
    "Imagem: [Scikit-learn - ML MAP](https://scikit-learn.org/stable/tutorial/machine_learning_map/index.html)"
   ]
  }
 ],
 "metadata": {
  "kernelspec": {
   "display_name": "Python 3 (ipykernel)",
   "language": "python",
   "name": "python3"
  },
  "language_info": {
   "codemirror_mode": {
    "name": "ipython",
    "version": 3
   },
   "file_extension": ".py",
   "mimetype": "text/x-python",
   "name": "python",
   "nbconvert_exporter": "python",
   "pygments_lexer": "ipython3",
   "version": "3.9.13"
  }
 },
 "nbformat": 4,
 "nbformat_minor": 5
}
