{
 "cells": [
  {
   "cell_type": "code",
   "execution_count": 16,
   "id": "e704195a",
   "metadata": {},
   "outputs": [
    {
     "name": "stdout",
     "output_type": "stream",
     "text": [
      "             Numeros\n",
      "0    253510074050001\n",
      "1         0058595236\n",
      "2         0567271234\n",
      "3  25351973193201615\n",
      "4         1458042160\n",
      "5         0584559232\n",
      "6  25351680049201709\n",
      "7         2251487174\n",
      "8         0578896231\n"
     ]
    }
   ],
   "source": [
    "import re\n",
    "import pandas as pd\n",
    "import requests\n",
    "from bs4 import BeautifulSoup\n",
    "\n",
    "# Obter a URL do usuário\n",
    "#url = input(\"Digite a URL do site: \")\n",
    "url = \"https://www.in.gov.br/web/dou/-/resolucao-re-n-2.173-de-15-de-junho-de-2023-490440546\"\n",
    "\n",
    "# Fazer o download do conteúdo HTML da página\n",
    "response = requests.get(url)\n",
    "html_content = response.text\n",
    "\n",
    "# Extrair os dados do HTML usando BeautifulSoup\n",
    "soup = BeautifulSoup(html_content, \"html.parser\")\n",
    "texto = soup.get_text()\n",
    "\n",
    "# Remover caracteres especiais usando expressões regulares\n",
    "texto_sem_caracteres_especiais = re.sub(r\"[^\\w\\s]\", \"\", texto)\n",
    "\n",
    "# Extrair todos os números do texto sem caracteres especiais usando expressões regulares\n",
    "numeros = re.findall(r\"\\d+\", texto_sem_caracteres_especiais)\n",
    "\n",
    "# Filtrar os números com 10, 15 ou 17 caracteres\n",
    "numeros_filtrados = [numero for numero in numeros if len(numero) in [10, 15, 17]]\n",
    "\n",
    "# Criar um DataFrame com os números encontrados\n",
    "df = pd.DataFrame(numeros_filtrados, columns=[\"Numeros\"])\n",
    "\n",
    "# Exibir o DataFrame\n",
    "print(df)"
   ]
  },
  {
   "cell_type": "code",
   "execution_count": 20,
   "id": "20311d52",
   "metadata": {},
   "outputs": [
    {
     "name": "stdout",
     "output_type": "stream",
     "text": [
      "['253510074050001', '0058595236', '0567271234', '25351973193201615', '1458042160', '0584559232', '25351680049201709', '2251487174', '0578896231', '99', '99']\n",
      "['253510074050001', '0058595236', '0567271234', '25351973193201615', '1458042160', '0584559232', '25351680049201709', '2251487174', '0578896231', '99', '99', '99']\n",
      "          v_processo v_expediente\n",
      "0    253510074050001   0058595236\n",
      "1    253510074050001   0567271234\n",
      "2  25351973193201615   1458042160\n",
      "3  25351973193201615   0584559232\n",
      "4  25351680049201709   2251487174\n",
      "5  25351680049201709   0578896231\n"
     ]
    }
   ],
   "source": [
    "# Criar uma lista para armazenar os dados do dataframe\n",
    "print (numeros_filtrados)\n",
    "numeros_filtrados.append ('99')\n",
    "print (numeros_filtrados)\n",
    "dados = []\n",
    "v_processo = None\n",
    "v_expediente = None\n",
    "v_tipo_anterior = None\n",
    "v_numero_anterior = None\n",
    "\n",
    "for numero in numeros_filtrados:\n",
    "    \n",
    "    if len(numero) == 15 or len(numero) == 17:\n",
    "        if v_tipo_anterior == 'PROCESSO':\n",
    "            dados.append({\"v_processo\": v_numero_anterior, \"v_expediente\": None})\n",
    "        elif numero == 99:\n",
    "            dados.append({\"v_processo\": v_numero_anterior, \"v_expediente\": None})\n",
    "        else:\n",
    "            v_processo = numero\n",
    "            v_numero_anterior = numero\n",
    "            v_tipo_anterior = 'PROCESSO'    \n",
    "    elif len(numero) == 10:\n",
    "        v_expediente = numero\n",
    "        v_numero_anterior = numero\n",
    "        v_tipo_anterior = 'EXPEDIENTE'\n",
    "        # Adicionar os valores ao dicionário de dados\n",
    "        dados.append({\"v_processo\": v_processo, \"v_expediente\": v_expediente})\n",
    "    else:\n",
    "         None\n",
    "\n",
    "# Criar o dataframe com os dados\n",
    "df_final = pd.DataFrame(dados, columns=[\"v_processo\", \"v_expediente\"])\n",
    "\n",
    "print(df_final)\n"
   ]
  },
  {
   "cell_type": "code",
   "execution_count": null,
   "id": "850b977b",
   "metadata": {},
   "outputs": [],
   "source": []
  }
 ],
 "metadata": {
  "kernelspec": {
   "display_name": "Python 3 (ipykernel)",
   "language": "python",
   "name": "python3"
  },
  "language_info": {
   "codemirror_mode": {
    "name": "ipython",
    "version": 3
   },
   "file_extension": ".py",
   "mimetype": "text/x-python",
   "name": "python",
   "nbconvert_exporter": "python",
   "pygments_lexer": "ipython3",
   "version": "3.9.13"
  }
 },
 "nbformat": 4,
 "nbformat_minor": 5
}
