{
 "cells": [
  {
   "cell_type": "markdown",
   "metadata": {
    "id": "gmsStwW3QW4E"
   },
   "source": [
    "## Desafio - Diário Oficial - Turma 1\n",
    "### Ciência de Dados e Inteligência Artificial\n",
    "##### Prof. [Anderson França](https://andersonfranca.me)\n",
    "\n",
    "Durante a 5ª imersão foi trabalhado o conceito de atomação e coleta de dados. Como atividade, foi proposto aos alunos definirem uma temática na qual será necessário criar uma rotina de coleta, estrutração e processamento de dados com a finalidade de resolver problemas de atualizações de documentos internos. \n",
    "\n",
    "Durante a discussão do projeto, foram definidos os seguintes passos:\n",
    "\n",
    "1. Acessar dados do diário oficial\n",
    "2. Identificar seção do diário oficial e publicações da Anvisa\n",
    "3. Identificar campos que precisarão ser extraídos\n",
    "4. Identificar padrão e estrutura de consulta\n",
    "5. Extrair os documentos e fazer o parsing das informações\n",
    "6. Salvar as informações em um data frame\n",
    "7. Automatizar consulta\n",
    "\n",
    "\n",
    "### Plano de ação\n",
    "O plano de ação será definido após a estruturação de todos os projetos. \n",
    "\n",
    "\n",
    "## Campos\n",
    "- Data início da vigência\n",
    "- Número da resolução\n",
    "- Número DOU\n",
    "- Data de Resolucao\n",
    "- Data Publicação\n",
    "- Número do expediente\n",
    "- Número do processo\n",
    "\n",
    "## Fluxo de Trabalho\n",
    "- Acessar a página de publicação\n",
    "- Identificar os links das publicações\n",
    "- Mapear cabeçalho :data, publicação, decisão.\n",
    "- Extrair o corpo com n. de expediente"
   ]
  }
 ],
 "metadata": {
  "colab": {
   "authorship_tag": "ABX9TyN3x2weRhI8JiaKC4yGKE2p",
   "provenance": []
  },
  "kernelspec": {
   "display_name": "Python 3 (ipykernel)",
   "language": "python",
   "name": "python3"
  },
  "language_info": {
   "codemirror_mode": {
    "name": "ipython",
    "version": 3
   },
   "file_extension": ".py",
   "mimetype": "text/x-python",
   "name": "python",
   "nbconvert_exporter": "python",
   "pygments_lexer": "ipython3",
   "version": "3.9.13"
  }
 },
 "nbformat": 4,
 "nbformat_minor": 1
}
