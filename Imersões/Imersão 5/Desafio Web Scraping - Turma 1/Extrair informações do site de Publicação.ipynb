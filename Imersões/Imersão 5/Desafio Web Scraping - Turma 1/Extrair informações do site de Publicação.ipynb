{
 "cells": [
  {
   "cell_type": "code",
   "execution_count": 1,
   "id": "c4b68d95",
   "metadata": {},
   "outputs": [],
   "source": [
    "import requests\n",
    "from bs4 import BeautifulSoup\n",
    "import pandas as pd\n",
    "import re"
   ]
  },
  {
   "cell_type": "code",
   "execution_count": 2,
   "id": "d6b47411",
   "metadata": {},
   "outputs": [],
   "source": [
    "url = 'https://www.in.gov.br/web/dou/-/resolucao-re-n-2.214-de-21-de-junho-de-2023-491630368'"
   ]
  },
  {
   "cell_type": "code",
   "execution_count": 3,
   "id": "92123d5c",
   "metadata": {},
   "outputs": [],
   "source": [
    "response = requests.get(url)\n",
    "soup = BeautifulSoup(response.text, 'html.parser')"
   ]
  },
  {
   "cell_type": "code",
   "execution_count": null,
   "id": "7d9509fa",
   "metadata": {},
   "outputs": [],
   "source": [
    "# Pesquisar informações\n",
    "publicado_em_element = soup.find('span', {'class': 'publicado-dou-data'})\n",
    "edicao_element = soup.find('span', {'class': 'edicao-dou-data'})\n",
    "secao_element = soup.find('span', {'class': 'secao-dou'})\n",
    "pagina_element = soup.find('span', {'class': 'secao-dou-data'})\n",
    "orgao_element = soup.find('span', {'class': 'orgao-dou-data'})\n",
    "assina_element = soup.find('p', {'class': 'assina'})\n",
    "identifica_element = soup.find('p', {'class': 'identifica'})\n",
    "preambulo_element = soup.find('p', {'class': 'dou-paragraph'})\n",
    "versao_oficial_element = soup.find('a', {'id': 'versao-certificada'})\n",
    "\n",
    "\n",
    "artigos = re.compile(r'Art\\. \\d+º')\n",
    "paragrafos_artigos = []\n",
    "\n",
    "for paragraph in soup.find_all('p'):\n",
    "    if artigos.search(paragraph.text):\n",
    "        paragrafos_artigos.append(paragraph.text.strip())\n",
    "        \n",
    "expediente_elements = soup.find_all('p', text=re.compile(r'Expediente'))\n",
    "numeros_expediente = []\n",
    "for expediente_element in expediente_elements:\n",
    "    expediente_text = expediente_element.text.strip()\n",
    "    numero_expediente = re.search(r'(\\d+/\\d+-\\d)', expediente_text)\n",
    "    if numero_expediente:\n",
    "        numeros_expediente.append(numero_expediente.group(1))\n",
    "        \n",
    "        \n",
    "completo = []\n",
    "for i in soup.find_all('p', {'class':'dou-paragraph'}):\n",
    "    completo.append(i.text.strip())\n",
    "#completo"
   ]
  },
  {
   "cell_type": "code",
   "execution_count": 7,
   "id": "1d724287",
   "metadata": {},
   "outputs": [],
   "source": [
    "publicado_em_element = soup.find('span', {'class': 'publicado-dou-dat'})\n",
    "\n",
    "publicado_em_element = publicado_em_element.text.strip() if publicado_em_element is not None else None\n",
    "publicado_em_element"
   ]
  },
  {
   "cell_type": "code",
   "execution_count": null,
   "id": "192bac45",
   "metadata": {},
   "outputs": [],
   "source": []
  },
  {
   "cell_type": "code",
   "execution_count": null,
   "id": "1f991b70",
   "metadata": {},
   "outputs": [],
   "source": [
    "publicado_em = publicado_em_element.text.strip() if publicado_em_element else None\n",
    "edicao = edicao_element.text.strip() if edicao_element else None\n",
    "secao = secao_element.text.strip() if secao_element else None\n",
    "pagina = pagina_element.text.strip() if pagina_element else None\n",
    "orgao = orgao_element.text.strip() if orgao_element else None\n",
    "assina = assina_element.text.strip() if assina_element else None\n",
    "identifica = identifica_element.text.strip() if identifica_element else None\n",
    "preambulo = preambulo_element.text.strip() if preambulo_element else ''\n",
    "versao = versao_oficial_element.get('href') if versao_oficial_element else ''"
   ]
  },
  {
   "cell_type": "code",
   "execution_count": null,
   "id": "192ce496",
   "metadata": {},
   "outputs": [],
   "source": [
    "data = {\n",
    "    'Publicado em': [publicado_em],\n",
    "    'Edicao': [edicao],\n",
    "    'Secao': [secao],\n",
    "    'Pagina': [pagina],\n",
    "    'Orgao':[orgao],\n",
    "    'Assinatura':[assina],\n",
    "    'Preambulo':[preambulo],\n",
    "    'Artigos':[paragrafos_artigos],\n",
    "    'Identifica':[identifica], \n",
    "    'Versão Oficial': [versao],\n",
    "    'Numero Expediente': [numeros_expediente],\n",
    "    'Texto Completo':[completo]\n",
    "}\n",
    "\n",
    "df = pd.DataFrame(data)"
   ]
  },
  {
   "cell_type": "code",
   "execution_count": null,
   "id": "fc2136ba",
   "metadata": {},
   "outputs": [],
   "source": [
    "# Imprime as informações\n",
    "print('Publicado em:', publicado_em)\n",
    "print('Edição:', edicao)\n",
    "print('Seção:', secao)\n",
    "print('Página:', pagina)\n",
    "print('Órgão:', orgao)\n",
    "print('Identifica:', identifica)\n",
    "print('Artigos',paragrafos_artigos)\n",
    "print('Preambulo',preambulo)\n",
    "print('Versao', versao)\n",
    "print('Expediente',numeros_expediente)"
   ]
  },
  {
   "cell_type": "code",
   "execution_count": null,
   "id": "4475aa77",
   "metadata": {},
   "outputs": [],
   "source": [
    "df"
   ]
  },
  {
   "cell_type": "code",
   "execution_count": null,
   "id": "85465155",
   "metadata": {},
   "outputs": [],
   "source": []
  }
 ],
 "metadata": {
  "kernelspec": {
   "display_name": "Python 3 (ipykernel)",
   "language": "python",
   "name": "python3"
  },
  "language_info": {
   "codemirror_mode": {
    "name": "ipython",
    "version": 3
   },
   "file_extension": ".py",
   "mimetype": "text/x-python",
   "name": "python",
   "nbconvert_exporter": "python",
   "pygments_lexer": "ipython3",
   "version": "3.9.13"
  }
 },
 "nbformat": 4,
 "nbformat_minor": 5
}
