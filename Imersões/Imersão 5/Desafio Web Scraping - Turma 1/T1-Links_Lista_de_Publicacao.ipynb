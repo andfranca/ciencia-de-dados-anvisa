{
 "cells": [
  {
   "cell_type": "markdown",
   "id": "531eaace",
   "metadata": {},
   "source": [
    "# Desafio - Diário Oficial\n",
    "\n",
    "1. Acessar dados do diário oficial\n",
    "2. Identificar seção do diário oficial e publicações da Anvisa\n",
    "3. Identificar campos que precisarão ser extraídos\n",
    "4. Identificar padrão e estrutura de consulta\n",
    "5. Extrair os documentos e fazer o parsing das informações\n",
    "6. Salvar as informações em um data frame\n",
    "7. Automatizar consulta"
   ]
  },
  {
   "cell_type": "code",
   "execution_count": null,
   "id": "c6db7c57",
   "metadata": {},
   "outputs": [],
   "source": [
    "import pandas as pd\n",
    "import requests\n",
    "import re\n",
    "from bs4 import BeautifulSoup\n",
    "from selenium import webdriver\n",
    "from selenium.webdriver.chrome.options import Options\n",
    "from selenium.webdriver.common.by import By\n",
    "from selenium.webdriver.support.ui import WebDriverWait\n",
    "from selenium.webdriver.support import expected_conditions as EC"
   ]
  },
  {
   "cell_type": "code",
   "execution_count": null,
   "id": "7bf8082c",
   "metadata": {},
   "outputs": [],
   "source": [
    "def listar_publicacoes(data):\n",
    "    \n",
    "    options = Options()\n",
    "    options.add_argument('--headless')\n",
    "    \n",
    "    driver = webdriver.Chrome(options=options)\n",
    "\n",
    "    url = 'https://www.in.gov.br/leiturajornal'\n",
    "\n",
    "    data = data\n",
    "    orgao = 'Ministério-da-Saúde'\n",
    "    orgao_sub = 'Ag%C3%AAncia%20Nacional%20de%20Vigil%C3%A2ncia%20Sanit%C3%A1ria'\n",
    "    ato = 'Resolução'\n",
    "\n",
    "    url_base = f'https://www.in.gov.br/leiturajornal?secao=dou1&data={data}&org=Minist%C3%A9rio-da-Sa%C3%BAde&org_sub=Ag%C3%AAncia%20Nacional%20de%20Vigil%C3%A2ncia%20Sanit%C3%A1ria&ato=Resolu%C3%A7%C3%A3o'\n",
    "\n",
    "    driver.get(url_base)\n",
    "              \n",
    "    # Esperar até que o botão esteja visível\n",
    "    wait = WebDriverWait(driver, 5)\n",
    "    botao = wait.until(EC.visibility_of_element_located((By.ID, 'viewMenuOptionTree')))\n",
    "\n",
    "    # Clicar no botão\n",
    "    botao.click()\n",
    "\n",
    "    html_content = driver.page_source\n",
    "        \n",
    "    driver.quit()\n",
    "\n",
    "    soup = BeautifulSoup(html_content, 'html.parser')\n",
    "\n",
    "    padrao = re.compile(r'/web/dou/-/resolucao.*')\n",
    "    links = soup.find_all('a', href=padrao)\n",
    "\n",
    "    links_filtrados = [] \n",
    "    for link in links:\n",
    "        li = link.get('href')\n",
    "        links_filtrados.append(f'https://www.in.gov.br/{li}')\n",
    "        \n",
    "        #print(f'https://www.in.gov.br/{li}')\n",
    "        \n",
    "    return(links_filtrados)"
   ]
  },
  {
   "cell_type": "code",
   "execution_count": null,
   "id": "02c10187",
   "metadata": {},
   "outputs": [],
   "source": [
    "links = listar_publicacoes('19-06-2023')"
   ]
  },
  {
   "cell_type": "code",
   "execution_count": null,
   "id": "909332ab",
   "metadata": {},
   "outputs": [],
   "source": [
    "links"
   ]
  },
  {
   "cell_type": "code",
   "execution_count": null,
   "id": "0d5ffa69",
   "metadata": {},
   "outputs": [],
   "source": []
  }
 ],
 "metadata": {
  "kernelspec": {
   "display_name": "Python 3 (ipykernel)",
   "language": "python",
   "name": "python3"
  },
  "language_info": {
   "codemirror_mode": {
    "name": "ipython",
    "version": 3
   },
   "file_extension": ".py",
   "mimetype": "text/x-python",
   "name": "python",
   "nbconvert_exporter": "python",
   "pygments_lexer": "ipython3",
   "version": "3.9.13"
  }
 },
 "nbformat": 4,
 "nbformat_minor": 5
}
