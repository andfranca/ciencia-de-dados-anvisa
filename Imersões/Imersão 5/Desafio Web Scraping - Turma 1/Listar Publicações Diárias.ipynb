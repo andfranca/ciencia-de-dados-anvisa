{
 "cells": [
  {
   "cell_type": "code",
   "execution_count": 1,
   "id": "c5d653c4",
   "metadata": {},
   "outputs": [],
   "source": [
    "import pandas as pd\n",
    "import requests\n",
    "import re\n",
    "from bs4 import BeautifulSoup\n",
    "from selenium import webdriver\n",
    "from selenium.webdriver.chrome.options import Options"
   ]
  },
  {
   "cell_type": "code",
   "execution_count": 2,
   "id": "0b03d276",
   "metadata": {},
   "outputs": [],
   "source": [
    "def listar_publicacoes(data):\n",
    "    \n",
    "    options = Options()\n",
    "    options.add_argument('--headless')\n",
    "    \n",
    "    driver = webdriver.Chrome(options=options)\n",
    "\n",
    "    url = 'https://www.in.gov.br/leiturajornal'\n",
    "\n",
    "    data = data\n",
    "    orgao = 'Ministério-da-Saúde'\n",
    "    orgao_sub = 'Ag%C3%AAncia%20Nacional%20de%20Vigil%C3%A2ncia%20Sanit%C3%A1ria'\n",
    "    ato = 'Resolução'\n",
    "\n",
    "    url_base = f'https://www.in.gov.br/leiturajornal?secao=dou1&data={data}&org=Minist%C3%A9rio-da-Sa%C3%BAde&org_sub=Ag%C3%AAncia%20Nacional%20de%20Vigil%C3%A2ncia%20Sanit%C3%A1ria&ato=Resolu%C3%A7%C3%A3o'\n",
    "\n",
    "    driver.get(url_base)\n",
    "               \n",
    "    html_content = driver.page_source\n",
    "\n",
    "    driver.quit()\n",
    "\n",
    "    soup = BeautifulSoup(html_content, 'html.parser')\n",
    "\n",
    "    padrao = re.compile(r'/web/dou/-/resolucao.*')\n",
    "    links = soup.find_all('a', href=padrao)\n",
    "\n",
    "    links_filtrados = [] \n",
    "    for link in links:\n",
    "        li = link.get('href')\n",
    "        links_filtrados.append(f'https://www.in.gov.br/{li}')\n",
    "        \n",
    "        #print(f'https://www.in.gov.br/{li}')\n",
    "        \n",
    "    return(links_filtrados)"
   ]
  },
  {
   "cell_type": "code",
   "execution_count": null,
   "id": "85f67e1a",
   "metadata": {},
   "outputs": [],
   "source": []
  },
  {
   "cell_type": "code",
   "execution_count": null,
   "id": "f21f813e",
   "metadata": {},
   "outputs": [],
   "source": []
  },
  {
   "cell_type": "code",
   "execution_count": null,
   "id": "aa5affa7",
   "metadata": {},
   "outputs": [],
   "source": []
  },
  {
   "cell_type": "code",
   "execution_count": null,
   "id": "b517eb2e",
   "metadata": {},
   "outputs": [],
   "source": []
  },
  {
   "cell_type": "code",
   "execution_count": null,
   "id": "cc5e05a6",
   "metadata": {},
   "outputs": [],
   "source": []
  },
  {
   "cell_type": "code",
   "execution_count": null,
   "id": "bf74bbc0",
   "metadata": {},
   "outputs": [],
   "source": []
  },
  {
   "cell_type": "code",
   "execution_count": null,
   "id": "42151d61",
   "metadata": {},
   "outputs": [],
   "source": []
  },
  {
   "cell_type": "code",
   "execution_count": 3,
   "id": "4f31834e",
   "metadata": {},
   "outputs": [],
   "source": [
    "links = listar_publicacoes('20-06-2023')"
   ]
  },
  {
   "cell_type": "code",
   "execution_count": 4,
   "id": "8fbde028",
   "metadata": {},
   "outputs": [
    {
     "data": {
      "text/plain": [
       "['https://www.in.gov.br//web/dou/-/resolucao-re-n-2.190-de-19-de-junho-de-2023-490740759',\n",
       " 'https://www.in.gov.br//web/dou/-/resolucao-re-n-2.196-de-19-de-junho-de-2023-490740838',\n",
       " 'https://www.in.gov.br//web/dou/-/resolucao-re-n-2.191-de-19-de-junho-de-2023-490746220',\n",
       " 'https://www.in.gov.br//web/dou/-/resolucao-re-n-2.192-de-19-de-junho-de-2023-490746333',\n",
       " 'https://www.in.gov.br//web/dou/-/resolucao-re-n-2.193-de-19-de-junho-de-2023-490747713',\n",
       " 'https://www.in.gov.br//web/dou/-/resolucao-re-n-2.194-de-19-de-junho-de-2023-490746378',\n",
       " 'https://www.in.gov.br//web/dou/-/resolucao-re-n-2.195-de-19-de-junho-de-2023-490746473']"
      ]
     },
     "execution_count": 4,
     "metadata": {},
     "output_type": "execute_result"
    }
   ],
   "source": [
    "links"
   ]
  },
  {
   "cell_type": "code",
   "execution_count": null,
   "id": "05a7d5ce",
   "metadata": {},
   "outputs": [],
   "source": []
  }
 ],
 "metadata": {
  "kernelspec": {
   "display_name": "Python 3 (ipykernel)",
   "language": "python",
   "name": "python3"
  },
  "language_info": {
   "codemirror_mode": {
    "name": "ipython",
    "version": 3
   },
   "file_extension": ".py",
   "mimetype": "text/x-python",
   "name": "python",
   "nbconvert_exporter": "python",
   "pygments_lexer": "ipython3",
   "version": "3.9.13"
  }
 },
 "nbformat": 4,
 "nbformat_minor": 5
}
