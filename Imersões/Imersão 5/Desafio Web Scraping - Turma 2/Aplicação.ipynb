{
 "cells": [
  {
   "cell_type": "code",
   "execution_count": null,
   "id": "a51175e2",
   "metadata": {},
   "outputs": [],
   "source": [
    "import pandas as pd\n",
    "import requests\n",
    "import re\n",
    "from bs4 import BeautifulSoup"
   ]
  },
  {
   "cell_type": "code",
   "execution_count": null,
   "id": "222ce2c0",
   "metadata": {},
   "outputs": [],
   "source": [
    "# Carregar base de CMED\n",
    "base_cmed = pd.read_excel(\"Lista de Preço CMED.xls\", \n",
    "                          skiprows=48,\n",
    "                          decimal=',')\n",
    "\n",
    "eans = base_cmed['EAN 1'][:30]\n",
    "#preco = base_cmed[['PF 0%','PF 22%']]"
   ]
  },
  {
   "cell_type": "code",
   "execution_count": null,
   "id": "294ef7cc",
   "metadata": {},
   "outputs": [],
   "source": [
    "def farmacia_preco(ean):\n",
    "    url = 'https://www.urlfarmacia.com.br/'\n",
    "    ean = ean\n",
    "\n",
    "    url_final = f'{url}{ean}?_q={ean}&map=ft'\n",
    "    \n",
    "    response = requests.get(url_final)\n",
    "    soup = BeautifulSoup(response.content, 'html.parser')\n",
    "        \n",
    "    nome_elemento = soup.find('span', {'class': 'subclass-nome'})\n",
    "    preco_elemento = soup.find('div', {'class': 'subclass-preco'})\n",
    "    \n",
    "    if nome_elemento is None:\n",
    "        nome = 'Produto não encontrado'\n",
    "    else:\n",
    "        nome = nome_elemento.text.strip()\n",
    "    \n",
    "    if preco_elemento is None:\n",
    "        preco = 0\n",
    "    else:\n",
    "        preco = preco_elemento.text.strip().removeprefix('R$\\xa0')\n",
    "        preco = float(preco.replace(',', '.'))\n",
    "    \n",
    "    data = {\n",
    "        'NOME_FARMACIA': [nome],\n",
    "        'PRECO_FARMACIA': [preco],\n",
    "        'EAN1':[ean]\n",
    "            }\n",
    "\n",
    "    df = pd.DataFrame(data)\n",
    "    return(df)"
   ]
  },
  {
   "cell_type": "code",
   "execution_count": null,
   "id": "7897201c",
   "metadata": {},
   "outputs": [],
   "source": [
    "precos = pd.DataFrame()\n",
    "\n",
    "for i in eans:\n",
    "    preco = farmacia_preco(i)\n",
    "    precos = pd.concat([precos, preco], axis=0)"
   ]
  },
  {
   "cell_type": "code",
   "execution_count": null,
   "id": "aee51f2c",
   "metadata": {},
   "outputs": [],
   "source": [
    "#Carregar base de dados CMED com campos que serão analizados\n",
    "base_cmed_filtrada = base_cmed[['SUBSTÂNCIA',\n",
    "                                'CNPJ',\n",
    "                                'LABORATÓRIO',\n",
    "                                'REGISTRO',\n",
    "                                'EAN 1',\n",
    "                                'PF Sem Impostos', \n",
    "                                'PF 0%', \n",
    "                                'PF 22%', \n",
    "                                'PMC 0%',\n",
    "                                'PMC 22%'\n",
    "                               ]]"
   ]
  },
  {
   "cell_type": "code",
   "execution_count": null,
   "id": "acd5d78d",
   "metadata": {},
   "outputs": [],
   "source": [
    "# Agrupar tabelas por EAN1\n",
    "base_comparacao = pd.merge(precos, base_cmed_filtrada, \n",
    "                           left_on='EAN1', \n",
    "                           right_on='EAN 1', \n",
    "                           how='left')"
   ]
  },
  {
   "cell_type": "code",
   "execution_count": null,
   "id": "a06b12b2",
   "metadata": {},
   "outputs": [],
   "source": [
    "base_comparacao[['EAN1',\n",
    "                 'SUBSTÂNCIA',\n",
    "                 'PRECO_FARMACIA',\n",
    "                 'PF Sem Impostos',\n",
    "                 'PF 22%',\n",
    "                 'PMC 0%',\n",
    "                 'PMC 22%']]"
   ]
  }
 ],
 "metadata": {
  "kernelspec": {
   "display_name": "Python 3 (ipykernel)",
   "language": "python",
   "name": "python3"
  },
  "language_info": {
   "codemirror_mode": {
    "name": "ipython",
    "version": 3
   },
   "file_extension": ".py",
   "mimetype": "text/x-python",
   "name": "python",
   "nbconvert_exporter": "python",
   "pygments_lexer": "ipython3",
   "version": "3.9.13"
  }
 },
 "nbformat": 4,
 "nbformat_minor": 5
}
