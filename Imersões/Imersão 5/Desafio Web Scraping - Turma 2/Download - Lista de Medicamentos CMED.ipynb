{
 "cells": [
  {
   "cell_type": "code",
   "execution_count": 20,
   "id": "d9f84b3d",
   "metadata": {},
   "outputs": [],
   "source": [
    "import requests\n",
    "import csv\n",
    "from bs4 import BeautifulSoup\n",
    "import re"
   ]
  },
  {
   "cell_type": "code",
   "execution_count": 25,
   "id": "5fd23114",
   "metadata": {},
   "outputs": [],
   "source": [
    "# Página CMED\n",
    "url = \"https://www.gov.br/anvisa/pt-br/assuntos/medicamentos/cmed/precos\"\n",
    "\n",
    "# Requisição da página\n",
    "response = requests.get(url)\n",
    "soup = BeautifulSoup(response.content, 'html.parser')\n",
    "\n",
    "# Localização do arquivo\n",
    "padrao = re.compile(r'.*precos/arquivos/xls_conformidade_site.*\\.xls.*')\n",
    "links = soup.find_all('a', href=padrao)\n",
    "link_download = link.get('href')\n",
    "\n",
    "download = requests.get(link_download,verify=False)"
   ]
  },
  {
   "cell_type": "code",
   "execution_count": 29,
   "id": "be2065c9",
   "metadata": {},
   "outputs": [],
   "source": [
    "#Salvar o arquivo em xls\n",
    "if download.status_code == 200:\n",
    "    with open(\"Lista de Preço CMED.xls\", \"wb\") as file:\n",
    "        file.write(download.content)\n",
    "    print(\"Download concluído com sucesso!\")\n",
    "else:\n",
    "    print(f\"Falha ao baixar o arquivo.\")"
   ]
  },
  {
   "cell_type": "code",
   "execution_count": 59,
   "id": "11a79ac2",
   "metadata": {},
   "outputs": [],
   "source": [
    "# Ler arquivo\n",
    "# pd.read_excel(\"Lista de Preço CMED.xls\", skiprows=48)"
   ]
  }
 ],
 "metadata": {
  "kernelspec": {
   "display_name": "Python 3 (ipykernel)",
   "language": "python",
   "name": "python3"
  },
  "language_info": {
   "codemirror_mode": {
    "name": "ipython",
    "version": 3
   },
   "file_extension": ".py",
   "mimetype": "text/x-python",
   "name": "python",
   "nbconvert_exporter": "python",
   "pygments_lexer": "ipython3",
   "version": "3.9.13"
  }
 },
 "nbformat": 4,
 "nbformat_minor": 5
}
